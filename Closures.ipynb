{
 "cells": [
  {
   "cell_type": "markdown",
   "id": "0749db76",
   "metadata": {},
   "source": [
    "<b><font size=6>Python Closures!</font></b> <br> <br>\n",
    "<font size = 2> Original tutorial and code snippets from Corey Schafer's tutorial: https://www.youtube.com/watch?v=swU3c34d2NQ&t=0s </font>"
   ]
  },
  {
   "cell_type": "markdown",
   "id": "9278a7a3",
   "metadata": {},
   "source": [
    "<font size = 3>Closure definition: a record storing a function with an environment, associating each free variable of the function with a value or address where the value is stored. The function can then access these captured variables through the closure's reference to them, even when the function is called outside of their scope.</font> <br>\n",
    "\n",
    "<font size = 3> <b>Example 1:</b> Here the function outer_func captures both the variable \"message\" and the function \"inner_func\" so they can be used together.</font>"
   ]
  },
  {
   "cell_type": "code",
   "execution_count": 1,
   "id": "1c3370c0",
   "metadata": {},
   "outputs": [
    {
     "name": "stdout",
     "output_type": "stream",
     "text": [
      "Hi\n"
     ]
    }
   ],
   "source": [
    "def outer_func():\n",
    "    message = \"Hi\"\n",
    "    def inner_func():\n",
    "        print(message)\n",
    "    return inner_func()\n",
    "\n",
    "outer_func()"
   ]
  },
  {
   "cell_type": "markdown",
   "id": "939894b6",
   "metadata": {},
   "source": [
    "We can also create a similar closure where we pass in a value to the outer function."
   ]
  },
  {
   "cell_type": "code",
   "execution_count": 4,
   "id": "e5b3fbcd",
   "metadata": {},
   "outputs": [
    {
     "name": "stdout",
     "output_type": "stream",
     "text": [
      "Hi Noa\n",
      "Hi Brian\n"
     ]
    }
   ],
   "source": [
    "def outer_func(name):\n",
    "    message = \"Hi\"\n",
    "    def inner_func():\n",
    "        print(message, name)\n",
    "    return inner_func()\n",
    "\n",
    "outer_func(\"Noa\")\n",
    "outer_func(\"Brian\")"
   ]
  },
  {
   "cell_type": "markdown",
   "id": "04057fb1",
   "metadata": {},
   "source": [
    "We can also modify our outer function so that we can use it as a \"cookie cutter\" to create similar functions with different inputs \"name\". To do this, we must modify the return value of outer_func so that it returns, but does not execute, the inner_func."
   ]
  },
  {
   "cell_type": "code",
   "execution_count": 5,
   "id": "5f7191a2",
   "metadata": {},
   "outputs": [
    {
     "name": "stdout",
     "output_type": "stream",
     "text": [
      "Hi Noa\n",
      "Hi Brian\n"
     ]
    }
   ],
   "source": [
    "def outer_func(name):\n",
    "    message = \"Hi\"\n",
    "    def inner_func():\n",
    "        print(message, name)\n",
    "    return inner_func\n",
    "\n",
    "hi_noa = outer_func(\"Noa\")\n",
    "hi_brian = outer_func(\"Brian\")\n",
    "hi_noa()\n",
    "hi_brian()"
   ]
  }
 ],
 "metadata": {
  "kernelspec": {
   "display_name": "Python 3 (ipykernel)",
   "language": "python",
   "name": "python3"
  },
  "language_info": {
   "codemirror_mode": {
    "name": "ipython",
    "version": 3
   },
   "file_extension": ".py",
   "mimetype": "text/x-python",
   "name": "python",
   "nbconvert_exporter": "python",
   "pygments_lexer": "ipython3",
   "version": "3.9.7"
  }
 },
 "nbformat": 4,
 "nbformat_minor": 5
}
