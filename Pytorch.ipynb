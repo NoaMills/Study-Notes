{
 "cells": [
  {
   "cell_type": "markdown",
   "id": "f3a0ba05",
   "metadata": {},
   "source": [
    "<font size=6> <b> Pytorch! </b> </font>"
   ]
  },
  {
   "cell_type": "markdown",
   "id": "7a21f866",
   "metadata": {},
   "source": [
    "First we install pytorch and numpy."
   ]
  },
  {
   "cell_type": "code",
   "execution_count": 2,
   "id": "917444db",
   "metadata": {},
   "outputs": [],
   "source": [
    "import torch\n",
    "import numpy as np"
   ]
  },
  {
   "cell_type": "markdown",
   "id": "a494ca07",
   "metadata": {},
   "source": [
    "Tensors are like nparrays except that they can be used on the GPU (or other hardware) to accelerate computation. Tensors all contain the same datatype. <br>\n",
    "\n",
    "If cuda is available, we can use cuda to transfer tensors to and from the GPU."
   ]
  },
  {
   "cell_type": "code",
   "execution_count": 4,
   "id": "4833d2d0",
   "metadata": {},
   "outputs": [
    {
     "name": "stdout",
     "output_type": "stream",
     "text": [
      "True\n"
     ]
    }
   ],
   "source": [
    "print(torch.cuda.is_available())"
   ]
  },
  {
   "cell_type": "markdown",
   "id": "0a40dd20",
   "metadata": {},
   "source": [
    "We can create tensors from nparrays as follows."
   ]
  },
  {
   "cell_type": "code",
   "execution_count": 5,
   "id": "bc0abca8",
   "metadata": {},
   "outputs": [
    {
     "name": "stdout",
     "output_type": "stream",
     "text": [
      "tensor([0, 1, 2, 3, 4, 5, 6, 7, 8, 9], dtype=torch.int32)\n"
     ]
    }
   ],
   "source": [
    "arr=np.arange(10)\n",
    "tensor=torch.from_numpy(arr)\n",
    "print(tensor)"
   ]
  },
  {
   "cell_type": "markdown",
   "id": "34049b39",
   "metadata": {},
   "source": [
    "We can also create tensors from lists."
   ]
  },
  {
   "cell_type": "code",
   "execution_count": 8,
   "id": "3f861a9f",
   "metadata": {},
   "outputs": [
    {
     "name": "stdout",
     "output_type": "stream",
     "text": [
      "tensor([[1, 2, 3],\n",
      "        [4, 5, 6]])\n"
     ]
    }
   ],
   "source": [
    "tensor2=torch.tensor(([1,2,3],[4,5,6]))\n",
    "print(tensor2)"
   ]
  },
  {
   "cell_type": "markdown",
   "id": "76a244cc",
   "metadata": {},
   "source": [
    "We can create a tensor filled with zeros, ones, or random values for any given shape."
   ]
  },
  {
   "cell_type": "code",
   "execution_count": 18,
   "id": "08fbf51d",
   "metadata": {},
   "outputs": [
    {
     "name": "stdout",
     "output_type": "stream",
     "text": [
      "tensor([[1., 1., 1., 1.],\n",
      "        [1., 1., 1., 1.],\n",
      "        [1., 1., 1., 1.]])\n",
      "tensor([[0., 0., 0.],\n",
      "        [0., 0., 0.]])\n",
      "tensor([0.8043, 0.5452, 0.7555, 0.4217, 0.8258])\n"
     ]
    }
   ],
   "source": [
    "print(torch.ones(3,4))\n",
    "print(torch.zeros(2,3))\n",
    "print(torch.rand(5))"
   ]
  },
  {
   "cell_type": "markdown",
   "id": "52dc53c9",
   "metadata": {},
   "source": [
    "We can create tensors to have the same shape and size as another tensor, and fill it with ones, zeros, or random values as follows. Note that for rand_like, we must set the datatype to float since the datatype of tensor2 is int32, so we must override this datatype."
   ]
  },
  {
   "cell_type": "code",
   "execution_count": 14,
   "id": "5af50435",
   "metadata": {},
   "outputs": [
    {
     "name": "stdout",
     "output_type": "stream",
     "text": [
      "tensor([[1, 1, 1],\n",
      "        [1, 1, 1]])\n",
      "tensor([[0, 0, 0],\n",
      "        [0, 0, 0]])\n",
      "tensor([[0.8382, 0.1522, 0.8041],\n",
      "        [0.6957, 0.6409, 0.0391]])\n"
     ]
    }
   ],
   "source": [
    "tensor3=torch.ones_like(tensor2)\n",
    "print(tensor3)\n",
    "tensor4=torch.zeros_like(tensor2)\n",
    "print(tensor4)\n",
    "tensor5=torch.rand_like(tensor2, dtype=torch.float)\n",
    "print(tensor5)"
   ]
  },
  {
   "cell_type": "markdown",
   "id": "a5defddb",
   "metadata": {},
   "source": [
    "We can access the values in a tensor like we do for a nparray as follows."
   ]
  },
  {
   "cell_type": "code",
   "execution_count": 22,
   "id": "6145f903",
   "metadata": {},
   "outputs": [
    {
     "name": "stdout",
     "output_type": "stream",
     "text": [
      "tensor(3)\n",
      "tensor([4, 5])\n",
      "tensor([1, 2, 3])\n",
      "tensor([1, 4])\n"
     ]
    }
   ],
   "source": [
    "t=torch.tensor([3,4,5,6])\n",
    "print(t[0])\n",
    "print(t[1:3])\n",
    "t2=torch.tensor([[1,2,3],[4,5,6]])\n",
    "print(t2[0])\n",
    "print(t2[:,0])"
   ]
  },
  {
   "cell_type": "markdown",
   "id": "bab8dac0",
   "metadata": {},
   "source": [
    "Likewise, we can set values for a tensor as follows."
   ]
  },
  {
   "cell_type": "code",
   "execution_count": 29,
   "id": "7e91f1fe",
   "metadata": {},
   "outputs": [
    {
     "name": "stdout",
     "output_type": "stream",
     "text": [
      "tensor([[0., 1., 1., 1.],\n",
      "        [0., 1., 1., 1.],\n",
      "        [0., 1., 1., 1.],\n",
      "        [0., 1., 1., 1.]])\n",
      "tensor([10,  2,  3])\n"
     ]
    }
   ],
   "source": [
    "t=torch.ones(4,4)\n",
    "t[:,0]=0\n",
    "print(t)\n",
    "t=torch.tensor([1,2,3])\n",
    "t[0]=10\n",
    "print(t)"
   ]
  },
  {
   "cell_type": "markdown",
   "id": "635d3b41",
   "metadata": {},
   "source": [
    "We can join tensors together along a given dimension with the torch.cat operation."
   ]
  },
  {
   "cell_type": "code",
   "execution_count": 34,
   "id": "3591d2dc",
   "metadata": {},
   "outputs": [
    {
     "name": "stdout",
     "output_type": "stream",
     "text": [
      "tensor([[ 1,  2],\n",
      "        [ 3,  4],\n",
      "        [10, 20],\n",
      "        [30, 40]])\n",
      "tensor([[ 1,  2, 10, 20],\n",
      "        [ 3,  4, 30, 40]])\n"
     ]
    }
   ],
   "source": [
    "t1=torch.tensor([[1,2],[3,4]])\n",
    "t2=torch.tensor([[10,20],[30,40]])\n",
    "print(torch.cat([t1, t2], dim=0)) #add vertically, maintain each row\n",
    "print(torch.cat([t1, t2], dim=1)) #add horizontally, maintain each column"
   ]
  },
  {
   "cell_type": "markdown",
   "id": "31587b3c",
   "metadata": {},
   "source": [
    "We can perform matrix multiplication using the @ symbol, and take the transform of a matrix using the .T function. Alternatively, we can use the torch.matmul() function"
   ]
  },
  {
   "cell_type": "code",
   "execution_count": 41,
   "id": "4c097f59",
   "metadata": {},
   "outputs": [
    {
     "name": "stdout",
     "output_type": "stream",
     "text": [
      "tensor([[ 5, 11],\n",
      "        [11, 25]])\n",
      "tensor([[ 5, 11],\n",
      "        [11, 25]])\n",
      "tensor([[ 5, 11],\n",
      "        [11, 25]])\n",
      "tensor([[ 5, 11],\n",
      "        [11, 25]])\n"
     ]
    }
   ],
   "source": [
    "print(t1 @ t1.T)\n",
    "print(t1.matmul(t1.T))\n",
    "print(torch.matmul(t1, t1.T))\n",
    "torch.matmul(t1,t1.T, out=t2) #\"out\" must be pre-defined\n",
    "print(t2)"
   ]
  },
  {
   "cell_type": "markdown",
   "id": "f6c3230a",
   "metadata": {},
   "source": [
    "We can compute the element-wise product using the * symbol or the .mul function."
   ]
  },
  {
   "cell_type": "code",
   "execution_count": 43,
   "id": "9c158f4d",
   "metadata": {},
   "outputs": [
    {
     "name": "stdout",
     "output_type": "stream",
     "text": [
      "tensor([[ 1,  4],\n",
      "        [ 9, 16]])\n",
      "tensor([[ 1,  4],\n",
      "        [ 9, 16]])\n",
      "tensor([[ 1,  4],\n",
      "        [ 9, 16]])\n"
     ]
    }
   ],
   "source": [
    "print(t1 * t1)\n",
    "print(t1.mul(t1))\n",
    "torch.mul(t1, t1, out=t2)\n",
    "print(t2)"
   ]
  },
  {
   "cell_type": "markdown",
   "id": "f1db0e02",
   "metadata": {},
   "source": [
    "A 1-element tensor can be converted to a python value using the item() function."
   ]
  },
  {
   "cell_type": "code",
   "execution_count": 46,
   "id": "07559723",
   "metadata": {},
   "outputs": [
    {
     "name": "stdout",
     "output_type": "stream",
     "text": [
      "tensor(10)\n",
      "10\n"
     ]
    }
   ],
   "source": [
    "agg = t1.sum()\n",
    "print(agg)\n",
    "agg_val = agg.item()\n",
    "print(agg_val)"
   ]
  },
  {
   "cell_type": "markdown",
   "id": "15ed3792",
   "metadata": {},
   "source": [
    "\"In place\" operations, denoted with an underscore, store the result into the operand. These functions can be problematic when computing derivatives because data is immediately overwritten, so the use of in place operations is discouraged."
   ]
  },
  {
   "cell_type": "code",
   "execution_count": 48,
   "id": "1c425267",
   "metadata": {},
   "outputs": [
    {
     "name": "stdout",
     "output_type": "stream",
     "text": [
      "tensor([[1, 2],\n",
      "        [3, 4]])\n",
      "tensor([[6, 7],\n",
      "        [8, 9]])\n"
     ]
    }
   ],
   "source": [
    "print(t1)\n",
    "t1.add_(5)\n",
    "print(t1)"
   ]
  },
  {
   "cell_type": "markdown",
   "id": "277fa7bb",
   "metadata": {},
   "source": [
    "\"Tensors on the CPU and NumPy arrays can share their underlying memory locations, and changing one will change the other.\""
   ]
  },
  {
   "cell_type": "code",
   "execution_count": 51,
   "id": "071e4ba9",
   "metadata": {},
   "outputs": [
    {
     "name": "stdout",
     "output_type": "stream",
     "text": [
      "t:  tensor([1., 1., 1., 1., 1.])\n",
      "n:  [1. 1. 1. 1. 1.]\n",
      "updated t:  tensor([6., 6., 6., 6., 6.])\n",
      "updated n:  [6. 6. 6. 6. 6.]\n"
     ]
    }
   ],
   "source": [
    "t = torch.ones(5)\n",
    "n = t.numpy()\n",
    "print(\"t: \", t)\n",
    "print(\"n: \", n)\n",
    "t.add_(5)\n",
    "print(\"updated t: \", t)\n",
    "print(\"updated n: \", n)"
   ]
  },
  {
   "cell_type": "code",
   "execution_count": 52,
   "id": "c3a3115b",
   "metadata": {},
   "outputs": [
    {
     "name": "stdout",
     "output_type": "stream",
     "text": [
      "tensor([2., 2., 2., 2., 2.], dtype=torch.float64)\n"
     ]
    }
   ],
   "source": [
    "n=np.ones(5)\n",
    "t=torch.from_numpy(n)\n",
    "np.add(n, 1, out=n)\n",
    "print(t)"
   ]
  },
  {
   "cell_type": "markdown",
   "id": "16feb002",
   "metadata": {},
   "source": []
  }
 ],
 "metadata": {
  "kernelspec": {
   "display_name": "Python [conda env:pytorch]",
   "language": "python",
   "name": "conda-env-pytorch-py"
  },
  "language_info": {
   "codemirror_mode": {
    "name": "ipython",
    "version": 3
   },
   "file_extension": ".py",
   "mimetype": "text/x-python",
   "name": "python",
   "nbconvert_exporter": "python",
   "pygments_lexer": "ipython3",
   "version": "3.9.7"
  }
 },
 "nbformat": 4,
 "nbformat_minor": 5
}
