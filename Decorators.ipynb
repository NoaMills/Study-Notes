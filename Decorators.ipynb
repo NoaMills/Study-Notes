{
 "cells": [
  {
   "cell_type": "markdown",
   "id": "707f5d9f",
   "metadata": {},
   "source": [
    "<b><font size=6>Python Decorators!</font></b>"
   ]
  },
  {
   "cell_type": "markdown",
   "id": "1e034b81",
   "metadata": {},
   "source": [
    "<font size = 3>Decorator definition: A function that takes another function as an argument, adds some functionality, and returns another function. \n",
    "<br>\n",
    "We can create decorators in python by using either a function or a class.  </font>"
   ]
  },
  {
   "cell_type": "markdown",
   "id": "9fce7c10",
   "metadata": {},
   "source": [
    "<font size = 5> Creating decorators as functions: </font> <br><br>\n",
    "<font size = 3> <b>Example 1:</b> The following function takes a function (original_function), and returns a function (wrapper_function) which prints text, then runs original_function. </font>"
   ]
  },
  {
   "cell_type": "code",
   "execution_count": 8,
   "id": "2475473c",
   "metadata": {},
   "outputs": [],
   "source": [
    "def decorator_function(original_function):\n",
    "    def wrapper_function():\n",
    "        print(\"Wrapper function executing\")\n",
    "        return original_function()\n",
    "    return wrapper_function()"
   ]
  },
  {
   "cell_type": "code",
   "execution_count": 9,
   "id": "249eb595",
   "metadata": {},
   "outputs": [],
   "source": [
    "def display():\n",
    "    print(\"Displaying!\")"
   ]
  },
  {
   "cell_type": "markdown",
   "id": "42012223",
   "metadata": {},
   "source": [
    "We can apply the decorator to the function display by passing display as an input to the decorator function. This executes the wrapper function, which executes the display function."
   ]
  },
  {
   "cell_type": "code",
   "execution_count": 10,
   "id": "feef82a9",
   "metadata": {},
   "outputs": [
    {
     "name": "stdout",
     "output_type": "stream",
     "text": [
      "Wrapper function executing\n",
      "Displaying!\n"
     ]
    }
   ],
   "source": [
    "decorator_function(display)"
   ]
  },
  {
   "cell_type": "markdown",
   "id": "b0159a16",
   "metadata": {},
   "source": [
    "<font size = 3> <b>Example 2:</b> The following code is identical EXCEPT for the very last line of the decorator function. Here, we return wrapper_function instead of wrapper_function().</font>"
   ]
  },
  {
   "cell_type": "code",
   "execution_count": 11,
   "id": "39a05010",
   "metadata": {},
   "outputs": [],
   "source": [
    "def decorator_function2(original_function):\n",
    "    def wrapper_function():\n",
    "        print(\"Wrapper function executing\")\n",
    "        return original_function()\n",
    "    return wrapper_function"
   ]
  },
  {
   "cell_type": "code",
   "execution_count": 12,
   "id": "33b7d775",
   "metadata": {},
   "outputs": [],
   "source": [
    "def display2():\n",
    "    print(\"Displaying!\")"
   ]
  },
  {
   "cell_type": "markdown",
   "id": "d86813b8",
   "metadata": {},
   "source": [
    " When we execute the function decorator_function, we return the wrapper function but do not execute it."
   ]
  },
  {
   "cell_type": "code",
   "execution_count": 13,
   "id": "6524c90c",
   "metadata": {},
   "outputs": [
    {
     "data": {
      "text/plain": [
       "<function __main__.decorator_function2.<locals>.wrapper_function()>"
      ]
     },
     "execution_count": 13,
     "metadata": {},
     "output_type": "execute_result"
    }
   ],
   "source": [
    "decorator_function2(display2)"
   ]
  },
  {
   "cell_type": "markdown",
   "id": "5aa39fdf",
   "metadata": {},
   "source": [
    "In order to execute the wrapper function inside of the decorator function, we must do the following:"
   ]
  },
  {
   "cell_type": "code",
   "execution_count": 14,
   "id": "42547f25",
   "metadata": {},
   "outputs": [
    {
     "name": "stdout",
     "output_type": "stream",
     "text": [
      "Wrapper function executing\n",
      "Displaying!\n"
     ]
    }
   ],
   "source": [
    "dec_display = decorator_function2(display2)\n",
    "dec_display()"
   ]
  }
 ],
 "metadata": {
  "kernelspec": {
   "display_name": "Python 3 (ipykernel)",
   "language": "python",
   "name": "python3"
  },
  "language_info": {
   "codemirror_mode": {
    "name": "ipython",
    "version": 3
   },
   "file_extension": ".py",
   "mimetype": "text/x-python",
   "name": "python",
   "nbconvert_exporter": "python",
   "pygments_lexer": "ipython3",
   "version": "3.9.7"
  }
 },
 "nbformat": 4,
 "nbformat_minor": 5
}
