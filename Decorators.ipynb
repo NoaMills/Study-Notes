{
 "cells": [
  {
   "cell_type": "markdown",
   "id": "de84f607",
   "metadata": {},
   "source": [
    "<b><font size=6>Python Decorators!</font></b>"
   ]
  },
  {
   "cell_type": "markdown",
   "id": "30b40004",
   "metadata": {},
   "source": [
    "<font size = 3>Decorator definition: A function that takes another function as an argument, adds some functionality, and returns another function. \n",
    "<br>\n",
    "We can create decorators in python by using either a function or a class.  </font>"
   ]
  },
  {
   "cell_type": "markdown",
   "id": "718ea6f1",
   "metadata": {},
   "source": [
    "<font size = 5><b> Part 1: Creating decorators as functions: </b></font> <br><br>\n",
    "<font size = 3> <b>Example 1:</b> The following function takes a function (original_function), and returns a function (wrapper_function) which prints text, then runs original_function. </font>"
   ]
  },
  {
   "cell_type": "code",
   "execution_count": 1,
   "id": "24f0f568",
   "metadata": {},
   "outputs": [],
   "source": [
    "def decorator_function(original_function):\n",
    "    def wrapper_function():\n",
    "        print(\"Wrapper function executing\")\n",
    "        return original_function()\n",
    "    return wrapper_function()"
   ]
  },
  {
   "cell_type": "code",
   "execution_count": 2,
   "id": "8029caa8",
   "metadata": {},
   "outputs": [],
   "source": [
    "def display():\n",
    "    print(\"Displaying!\")"
   ]
  },
  {
   "cell_type": "markdown",
   "id": "0bc80975",
   "metadata": {},
   "source": [
    "We can apply the decorator to the function display by passing display as an input to the decorator function. This executes the wrapper function, which executes the display function."
   ]
  },
  {
   "cell_type": "code",
   "execution_count": 3,
   "id": "417ffd23",
   "metadata": {},
   "outputs": [
    {
     "name": "stdout",
     "output_type": "stream",
     "text": [
      "Wrapper function executing\n",
      "Displaying!\n"
     ]
    }
   ],
   "source": [
    "decorator_function(display)"
   ]
  },
  {
   "cell_type": "markdown",
   "id": "c5b913de",
   "metadata": {},
   "source": [
    "<font size = 3> <b>Example 2:</b> The following code is identical EXCEPT for the very last line of the decorator function. Here, we return wrapper_function instead of wrapper_function().</font>"
   ]
  },
  {
   "cell_type": "code",
   "execution_count": 4,
   "id": "9963ff34",
   "metadata": {},
   "outputs": [],
   "source": [
    "def decorator_function2(original_function):\n",
    "    def wrapper_function():\n",
    "        print(\"Wrapper function executing\")\n",
    "        return original_function()\n",
    "    return wrapper_function"
   ]
  },
  {
   "cell_type": "code",
   "execution_count": 5,
   "id": "683bbb67",
   "metadata": {},
   "outputs": [],
   "source": [
    "def display2():\n",
    "    print(\"Displaying!\")"
   ]
  },
  {
   "cell_type": "markdown",
   "id": "7845c658",
   "metadata": {},
   "source": [
    " When we execute the function decorator_function, we return the wrapper function but do not execute it."
   ]
  },
  {
   "cell_type": "code",
   "execution_count": 6,
   "id": "4d4de937",
   "metadata": {},
   "outputs": [
    {
     "data": {
      "text/plain": [
       "<function __main__.decorator_function2.<locals>.wrapper_function()>"
      ]
     },
     "execution_count": 6,
     "metadata": {},
     "output_type": "execute_result"
    }
   ],
   "source": [
    "decorator_function2(display2)"
   ]
  },
  {
   "cell_type": "markdown",
   "id": "e953a68f",
   "metadata": {},
   "source": [
    "In order to execute the wrapper function inside of the decorator function, we must do the following:"
   ]
  },
  {
   "cell_type": "code",
   "execution_count": 7,
   "id": "8f1aa539",
   "metadata": {},
   "outputs": [
    {
     "name": "stdout",
     "output_type": "stream",
     "text": [
      "Wrapper function executing\n",
      "Displaying!\n"
     ]
    }
   ],
   "source": [
    "dec_display = decorator_function2(display2)\n",
    "dec_display()"
   ]
  },
  {
   "cell_type": "markdown",
   "id": "f783f412",
   "metadata": {},
   "source": [
    "Or, we can apply the decorator function with more common syntax as follows:"
   ]
  },
  {
   "cell_type": "code",
   "execution_count": 8,
   "id": "7442d2b8",
   "metadata": {},
   "outputs": [
    {
     "name": "stdout",
     "output_type": "stream",
     "text": [
      "Wrapper function executing\n",
      "Dispalying!\n"
     ]
    }
   ],
   "source": [
    "@decorator_function2\n",
    "def display2():\n",
    "    print(\"Dispalying!\")\n",
    "    \n",
    "display2()"
   ]
  },
  {
   "cell_type": "markdown",
   "id": "8e6e9850",
   "metadata": {},
   "source": [
    "<font size=3><b>Example 3:</b> The problem with the above decorator functions is that they can only be applied to functions which have no inputs. For example, say we have the following function we wish to apply the decorator to:</font>"
   ]
  },
  {
   "cell_type": "code",
   "execution_count": 9,
   "id": "d201fe70",
   "metadata": {},
   "outputs": [],
   "source": [
    "@decorator_function2\n",
    "def display3(text):\n",
    "    print(\"Displaying text: \", text)\n",
    "    \n",
    "#display3()"
   ]
  },
  {
   "cell_type": "markdown",
   "id": "56b8849a",
   "metadata": {},
   "source": [
    "Here we get an error (uncomment \"display3() to see error) because when we defined the function decorator_function2, we call original_function() with no arguments, so the decorator isn't prepared to accept functions with arguments. We can modify our decorator as follows to allow for a variable number of arguments:"
   ]
  },
  {
   "cell_type": "code",
   "execution_count": 10,
   "id": "e18a2ba3",
   "metadata": {},
   "outputs": [
    {
     "name": "stdout",
     "output_type": "stream",
     "text": [
      "Wrapper function executing\n",
      "Displaying text:  Success!\n"
     ]
    }
   ],
   "source": [
    "def decorator_function2(original_function):\n",
    "    def wrapper_function(*args, **kwargs):\n",
    "        print(\"Wrapper function executing\")\n",
    "        return original_function(*args, **kwargs)\n",
    "    return wrapper_function\n",
    "\n",
    "@decorator_function2\n",
    "def display3(text):\n",
    "    print(\"Displaying text: \", text)\n",
    "    \n",
    "display3(\"Success!\")"
   ]
  }
 ],
 "metadata": {
  "kernelspec": {
   "display_name": "Python 3 (ipykernel)",
   "language": "python",
   "name": "python3"
  },
  "language_info": {
   "codemirror_mode": {
    "name": "ipython",
    "version": 3
   },
   "file_extension": ".py",
   "mimetype": "text/x-python",
   "name": "python",
   "nbconvert_exporter": "python",
   "pygments_lexer": "ipython3",
   "version": "3.9.7"
  }
 },
 "nbformat": 4,
 "nbformat_minor": 5
}
