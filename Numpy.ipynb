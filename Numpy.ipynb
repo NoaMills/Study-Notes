{
 "cells": [
  {
   "cell_type": "markdown",
   "id": "eae7a370",
   "metadata": {},
   "source": [
    "<font size = 6> <b> Numpy! </b> </font>"
   ]
  },
  {
   "cell_type": "code",
   "execution_count": 1,
   "id": "ba1cfe6e",
   "metadata": {},
   "outputs": [],
   "source": [
    "import numpy as np\n",
    "from numpy import random"
   ]
  },
  {
   "cell_type": "markdown",
   "id": "0fbcdabf",
   "metadata": {},
   "source": [
    "<font size = 5> <b> Creating Numpy Arrays </b> </font> <br>\n",
    "<font size = 3> <b> Method 1: Numpy Array from Python List </b></font>"
   ]
  },
  {
   "cell_type": "code",
   "execution_count": 2,
   "id": "9329922e",
   "metadata": {},
   "outputs": [
    {
     "name": "stdout",
     "output_type": "stream",
     "text": [
      "npArr1: \n",
      " [1 2 3 4 5]\n",
      "npArr2: \n",
      " [[1 2 3]\n",
      " [4 5 6]\n",
      " [7 8 9]]\n"
     ]
    }
   ],
   "source": [
    "list1=[1,2,3,4,5]\n",
    "npArr1 = np.array(list1, dtype=np.int16) #type specification is optional\n",
    "print(\"npArr1: \\n\", npArr1)\n",
    "list2=[[1,2,3],[4,5,6],[7,8,9]]\n",
    "npArr2=np.array(list2)\n",
    "print(\"npArr2: \\n\", npArr2)"
   ]
  },
  {
   "cell_type": "markdown",
   "id": "05541688",
   "metadata": {},
   "source": [
    "<font size = 3><b> Method 2: Using arange and linspace </b> </font> <br><br>\n",
    "The arange(start, stop, step) constructs a np array from the starting position (inclusive) to the ending position (exclusive) in increments defined by the step size. Default step size = 1. Compared to linspace, arange gives the user more control over the step size. <br><br>\n",
    "The linspace(start, stop, array length) constructs a np array from the starting position (inclusive) to the ending position (inclusive) with equally spaced value. The returned array will have the specified number of elements. Compared to arange, linspace gives the user more control over the start and stop values."
   ]
  },
  {
   "cell_type": "code",
   "execution_count": 3,
   "id": "76e62e6b",
   "metadata": {},
   "outputs": [
    {
     "name": "stdout",
     "output_type": "stream",
     "text": [
      "arange: [1 3 5 7 9]\n",
      "linspace: [ 0.          3.33333333  6.66666667 10.        ]\n"
     ]
    }
   ],
   "source": [
    "print(\"arange:\", np.arange(1,10, 2))\n",
    "print(\"linspace:\", np.linspace(0,10,4))"
   ]
  },
  {
   "cell_type": "markdown",
   "id": "b5886dfc",
   "metadata": {},
   "source": [
    "<font size = 3><b> Method 3: Using ones and zeros </b> </font>"
   ]
  },
  {
   "cell_type": "code",
   "execution_count": 4,
   "id": "af0e54e5",
   "metadata": {},
   "outputs": [
    {
     "name": "stdout",
     "output_type": "stream",
     "text": [
      "[0. 0.]\n",
      "[[0. 0.]\n",
      " [0. 0.]]\n",
      "12\n",
      "(3, 4)\n",
      "float64\n"
     ]
    }
   ],
   "source": [
    "print(np.zeros(2))\n",
    "print(np.zeros((2,2)))\n",
    "print(np.ones((3,4)).size)\n",
    "print(np.ones((3,4)).shape)\n",
    "print(np.ones((3,4)).dtype)"
   ]
  },
  {
   "cell_type": "markdown",
   "id": "0fd51ba8",
   "metadata": {},
   "source": [
    "<font size = 3><b> Method 4: Creating random arrays</b> </font><br><br>\n",
    "The np.random.randint(from, to, size) function generates an array of size n with integers values ranging from (inclusive) and to (exclusive) the first two arguments. Default from = 0, size = 1.<br><br>"
   ]
  },
  {
   "cell_type": "code",
   "execution_count": 5,
   "id": "b40470c5",
   "metadata": {},
   "outputs": [
    {
     "name": "stdout",
     "output_type": "stream",
     "text": [
      "[15 19 10 14 11 11 14 15 11 20]\n",
      "[[11 12]\n",
      " [19 13]]\n"
     ]
    }
   ],
   "source": [
    "print(np.random.randint(10,21,10)) #from (inclusive), to (exclusive), n\n",
    "print(np.random.randint(10,21, size=(2,2)))"
   ]
  },
  {
   "cell_type": "markdown",
   "id": "0bca1b6a",
   "metadata": {},
   "source": [
    "The np.random.rand(n) function creates an array of size n with random values from a uniform distribution from 0 to 1. Default n=1."
   ]
  },
  {
   "cell_type": "code",
   "execution_count": 6,
   "id": "1f16d554",
   "metadata": {},
   "outputs": [
    {
     "name": "stdout",
     "output_type": "stream",
     "text": [
      "0.2689887752133474\n",
      "[[0.77890742 0.35216626]\n",
      " [0.01851752 0.11759396]]\n"
     ]
    }
   ],
   "source": [
    "print(np.random.rand())\n",
    "print(np.random.rand(2,2))"
   ]
  },
  {
   "cell_type": "markdown",
   "id": "93357f48",
   "metadata": {},
   "source": [
    "The np.random.choice(a, size=None, replace=True, p=None) function randomly chooses elements from a given input a."
   ]
  },
  {
   "cell_type": "code",
   "execution_count": 18,
   "id": "5411d4bf",
   "metadata": {},
   "outputs": [
    {
     "name": "stdout",
     "output_type": "stream",
     "text": [
      "[[5 5]\n",
      " [1 5]]\n"
     ]
    }
   ],
   "source": [
    "input = [1,2,3,4,5]\n",
    "print(np.random.choice(input, size=(2,2), replace=True, p=[0.1,0.1,0.1,0.1,0.6]))"
   ]
  },
  {
   "cell_type": "raw",
   "id": "700a4b19",
   "metadata": {},
   "source": [
    "The np.random.shuffle(arr) function randomly shuffles the order of the elements of the input array. <b>NOTE that the shuffle function modifies the original array.</b>"
   ]
  },
  {
   "cell_type": "code",
   "execution_count": 29,
   "id": "09d3fc38",
   "metadata": {},
   "outputs": [
    {
     "name": "stdout",
     "output_type": "stream",
     "text": [
      "[5 2 1 4 3]\n"
     ]
    }
   ],
   "source": [
    "arr=np.array([1,2,3,4,5])\n",
    "np.random.shuffle(arr)\n",
    "print(arr)"
   ]
  },
  {
   "cell_type": "markdown",
   "id": "19388753",
   "metadata": {},
   "source": [
    "The np.random.permutation(arr) function returns a permutation of the elements in the input array. Unlike the shuffle function, the permutation function does not affect the original array."
   ]
  },
  {
   "cell_type": "code",
   "execution_count": 32,
   "id": "2a09c1a1",
   "metadata": {},
   "outputs": [
    {
     "name": "stdout",
     "output_type": "stream",
     "text": [
      "[5 1 2 3 4]\n"
     ]
    }
   ],
   "source": [
    "arr=np.array([1,2,3,4,5])\n",
    "print(np.random.permutation(arr))"
   ]
  },
  {
   "cell_type": "markdown",
   "id": "0baeb0d0",
   "metadata": {},
   "source": [
    "The np.random.normal(loc=0, scale=1, size=None) returns random values from a normal distruction with mean=loc and standard deviation = 1."
   ]
  },
  {
   "cell_type": "code",
   "execution_count": 33,
   "id": "a1259960",
   "metadata": {},
   "outputs": [
    {
     "name": "stdout",
     "output_type": "stream",
     "text": [
      "[[1.77601493 1.88968707 2.18647666]\n",
      " [1.94619498 1.8948478  2.00440055]\n",
      " [2.0024256  2.01044216 2.09936574]]\n"
     ]
    }
   ],
   "source": [
    "print(np.random.normal(2,0.1, size=(3,3)))"
   ]
  }
 ],
 "metadata": {
  "kernelspec": {
   "display_name": "Python 3 (ipykernel)",
   "language": "python",
   "name": "python3"
  },
  "language_info": {
   "codemirror_mode": {
    "name": "ipython",
    "version": 3
   },
   "file_extension": ".py",
   "mimetype": "text/x-python",
   "name": "python",
   "nbconvert_exporter": "python",
   "pygments_lexer": "ipython3",
   "version": "3.9.7"
  }
 },
 "nbformat": 4,
 "nbformat_minor": 5
}
