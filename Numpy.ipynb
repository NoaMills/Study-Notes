{
 "cells": [
  {
   "cell_type": "markdown",
   "id": "92bedb26",
   "metadata": {},
   "source": [
    "<font size = 6> <b> Numpy! </b> </font>"
   ]
  },
  {
   "cell_type": "code",
   "execution_count": 1,
   "id": "5f0ec721",
   "metadata": {},
   "outputs": [],
   "source": [
    "import numpy as np\n",
    "from numpy import random"
   ]
  },
  {
   "cell_type": "markdown",
   "id": "84773f9a",
   "metadata": {},
   "source": [
    "<font size = 5> <b> Creating Numpy Arrays </b> </font> <br>\n",
    "<font size = 3> <b> Method 1: Numpy Array from Python List </b></font>"
   ]
  },
  {
   "cell_type": "code",
   "execution_count": 2,
   "id": "0c280d5d",
   "metadata": {},
   "outputs": [
    {
     "name": "stdout",
     "output_type": "stream",
     "text": [
      "npArr1: \n",
      " [1 2 3 4 5]\n",
      "npArr2: \n",
      " [[1 2 3]\n",
      " [4 5 6]\n",
      " [7 8 9]]\n"
     ]
    }
   ],
   "source": [
    "list1=[1,2,3,4,5]\n",
    "npArr1 = np.array(list1, dtype=np.int16) #type specification is optional\n",
    "print(\"npArr1: \\n\", npArr1)\n",
    "list2=[[1,2,3],[4,5,6],[7,8,9]]\n",
    "npArr2=np.array(list2)\n",
    "print(\"npArr2: \\n\", npArr2)"
   ]
  },
  {
   "cell_type": "markdown",
   "id": "dfd0899a",
   "metadata": {},
   "source": [
    "<font size = 3><b> Method 2: Using arange and linspace </b> </font> <br><br>\n",
    "The arange(start, stop, step) constructs a np array from the starting position (inclusive) to the ending position (exclusive) in increments defined by the step size. Default step size = 1. Compared to linspace, arange gives the user more control over the step size. <br><br>\n",
    "The linspace(start, stop, array length) constructs a np array from the starting position (inclusive) to the ending position (inclusive) with equally spaced value. The returned array will have the specified number of elements. Compared to arange, linspace gives the user more control over the start and stop values."
   ]
  },
  {
   "cell_type": "code",
   "execution_count": 3,
   "id": "1e2fb7d0",
   "metadata": {},
   "outputs": [
    {
     "name": "stdout",
     "output_type": "stream",
     "text": [
      "arange: [1 3 5 7 9]\n",
      "linspace: [ 0.          3.33333333  6.66666667 10.        ]\n"
     ]
    }
   ],
   "source": [
    "print(\"arange:\", np.arange(1,10, 2))\n",
    "print(\"linspace:\", np.linspace(0,10,4))"
   ]
  },
  {
   "cell_type": "markdown",
   "id": "a4aa30db",
   "metadata": {},
   "source": [
    "<font size = 3><b> Method 3: Using ones and zeros </b> </font>"
   ]
  },
  {
   "cell_type": "code",
   "execution_count": 10,
   "id": "effb55dd",
   "metadata": {},
   "outputs": [
    {
     "name": "stdout",
     "output_type": "stream",
     "text": [
      "[0. 0.]\n",
      "[[0. 0.]\n",
      " [0. 0.]]\n",
      "12\n",
      "(3, 4)\n",
      "float64\n"
     ]
    }
   ],
   "source": [
    "print(np.zeros(2))\n",
    "print(np.zeros((2,2)))\n",
    "print(np.ones((3,4)).size)\n",
    "print(np.ones((3,4)).shape)\n",
    "print(np.ones((3,4)).dtype)"
   ]
  },
  {
   "cell_type": "markdown",
   "id": "0cefbc6a",
   "metadata": {},
   "source": [
    "<font size = 3><b> Method 4: Creating random arrays</b> </font><br><br>\n",
    "The np.random.randint(from, to, size) function generates an array of size n with integers values ranging from (inclusive) and to (exclusive) the first two arguments. Default from = 0, size = 1.<br><br>"
   ]
  },
  {
   "cell_type": "code",
   "execution_count": 13,
   "id": "56e25431",
   "metadata": {},
   "outputs": [
    {
     "name": "stdout",
     "output_type": "stream",
     "text": [
      "[16 11 12 18 17 18 11 16 12 19]\n",
      "[[12 19]\n",
      " [16 18]]\n"
     ]
    }
   ],
   "source": [
    "print(np.random.randint(10,21,10)) #from (inclusive), to (exclusive), n\n",
    "print(np.random.randint(10,21, size=(2,2)))"
   ]
  },
  {
   "cell_type": "markdown",
   "id": "2f6126e2",
   "metadata": {},
   "source": [
    "The np.random.rand(n) function creates an array of size n with random values from a uniform distribution from 0 to 1. Default n=1."
   ]
  },
  {
   "cell_type": "code",
   "execution_count": 22,
   "id": "35344754",
   "metadata": {},
   "outputs": [
    {
     "name": "stdout",
     "output_type": "stream",
     "text": [
      "0.21168162997807338\n",
      "[[0.02848798 0.7492517 ]\n",
      " [0.60277253 0.52815832]]\n"
     ]
    }
   ],
   "source": [
    "print(np.random.rand())\n",
    "print(np.random.rand(2,2))"
   ]
  },
  {
   "cell_type": "code",
   "execution_count": null,
   "id": "c23dfdf9",
   "metadata": {},
   "outputs": [],
   "source": []
  },
  {
   "cell_type": "code",
   "execution_count": null,
   "id": "56c96f46",
   "metadata": {},
   "outputs": [],
   "source": []
  }
 ],
 "metadata": {
  "kernelspec": {
   "display_name": "Python 3 (ipykernel)",
   "language": "python",
   "name": "python3"
  },
  "language_info": {
   "codemirror_mode": {
    "name": "ipython",
    "version": 3
   },
   "file_extension": ".py",
   "mimetype": "text/x-python",
   "name": "python",
   "nbconvert_exporter": "python",
   "pygments_lexer": "ipython3",
   "version": "3.9.7"
  }
 },
 "nbformat": 4,
 "nbformat_minor": 5
}
