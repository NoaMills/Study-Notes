{
 "cells": [
  {
   "cell_type": "markdown",
   "id": "fe658a7a",
   "metadata": {},
   "source": [
    "<font size = 6> <b> Numpy! </b> </font>"
   ]
  },
  {
   "cell_type": "code",
   "execution_count": 1,
   "id": "b5633da0",
   "metadata": {},
   "outputs": [],
   "source": [
    "import numpy as np\n",
    "from numpy import random"
   ]
  },
  {
   "cell_type": "markdown",
   "id": "20cf7c34",
   "metadata": {},
   "source": [
    "<font size = 5> <b> Creating Numpy Arrays </b> </font> <br>\n",
    "<font size = 3> <b> Method 1: Numpy Array from Python List </b></font>"
   ]
  },
  {
   "cell_type": "code",
   "execution_count": 2,
   "id": "e0af0689",
   "metadata": {},
   "outputs": [
    {
     "name": "stdout",
     "output_type": "stream",
     "text": [
      "npArr1: \n",
      " [1 2 3 4 5]\n",
      "npArr2: \n",
      " [[1 2 3]\n",
      " [4 5 6]\n",
      " [7 8 9]]\n"
     ]
    }
   ],
   "source": [
    "list1=[1,2,3,4,5]\n",
    "npArr1 = np.array(list1, dtype=np.int16) #type specification is optional\n",
    "print(\"npArr1: \\n\", npArr1)\n",
    "list2=[[1,2,3],[4,5,6],[7,8,9]]\n",
    "npArr2=np.array(list2)\n",
    "print(\"npArr2: \\n\", npArr2)"
   ]
  },
  {
   "cell_type": "markdown",
   "id": "07492f2a",
   "metadata": {},
   "source": [
    "<font size = 3><b> Method 2: Using arange and linspace </b> </font> <br><br>\n",
    "The arange(start, stop, step) constructs a np array from the starting position (inclusive) to the ending position (exclusive) in increments defined by the step size. Default step size = 1. Compared to linspace, arange gives the user more control over the step size. <br><br>\n",
    "The linspace(start, stop, array length) constructs a np array from the starting position (inclusive) to the ending position (inclusive) with equally spaced value. The returned array will have the specified number of elements. Compared to arange, linspace gives the user more control over the start and stop values."
   ]
  },
  {
   "cell_type": "code",
   "execution_count": 3,
   "id": "02c6a19c",
   "metadata": {},
   "outputs": [
    {
     "name": "stdout",
     "output_type": "stream",
     "text": [
      "arange: [1 3 5 7 9]\n",
      "linspace: [ 0.          3.33333333  6.66666667 10.        ]\n"
     ]
    }
   ],
   "source": [
    "print(\"arange:\", np.arange(1,10, 2))\n",
    "print(\"linspace:\", np.linspace(0,10,4))"
   ]
  },
  {
   "cell_type": "markdown",
   "id": "ea41a9dd",
   "metadata": {},
   "source": [
    "<font size = 3><b> Method 3: Using ones and zeros </b> </font>"
   ]
  },
  {
   "cell_type": "code",
   "execution_count": 4,
   "id": "2fab5531",
   "metadata": {},
   "outputs": [
    {
     "name": "stdout",
     "output_type": "stream",
     "text": [
      "[0. 0.]\n",
      "[[0. 0.]\n",
      " [0. 0.]]\n",
      "12\n",
      "(3, 4)\n",
      "float64\n"
     ]
    }
   ],
   "source": [
    "print(np.zeros(2))\n",
    "print(np.zeros((2,2)))\n",
    "print(np.ones((3,4)).size)\n",
    "print(np.ones((3,4)).shape)\n",
    "print(np.ones((3,4)).dtype)"
   ]
  },
  {
   "cell_type": "markdown",
   "id": "27c5d37c",
   "metadata": {},
   "source": [
    "<font size = 3><b> Method 4: Creating random arrays</b> </font><br><br>\n",
    "The np.random.randint(from, to, size) function generates an array of size n with integers values ranging from (inclusive) and to (exclusive) the first two arguments. Default from = 0, size = 1.<br><br>"
   ]
  },
  {
   "cell_type": "code",
   "execution_count": 5,
   "id": "c60a2ab7",
   "metadata": {},
   "outputs": [
    {
     "name": "stdout",
     "output_type": "stream",
     "text": [
      "[15 18 10 17 20 14 20 14 20 15]\n",
      "[[16 10]\n",
      " [16 14]]\n"
     ]
    }
   ],
   "source": [
    "print(np.random.randint(10,21,10)) #from (inclusive), to (exclusive), n\n",
    "print(np.random.randint(10,21, size=(2,2)))"
   ]
  },
  {
   "cell_type": "markdown",
   "id": "a0cf51f9",
   "metadata": {},
   "source": [
    "The np.random.rand(n) function creates an array of size n with random values from a uniform distribution from 0 to 1. Default n=1."
   ]
  },
  {
   "cell_type": "code",
   "execution_count": 6,
   "id": "ea550bca",
   "metadata": {},
   "outputs": [
    {
     "name": "stdout",
     "output_type": "stream",
     "text": [
      "0.7064390165996903\n",
      "[[0.39935716 0.32137261]\n",
      " [0.42840504 0.54052851]]\n"
     ]
    }
   ],
   "source": [
    "print(np.random.rand())\n",
    "print(np.random.rand(2,2))"
   ]
  },
  {
   "cell_type": "markdown",
   "id": "d34943a6",
   "metadata": {},
   "source": [
    "The np.random.choice(a, size=None, replace=True, p=None) function randomly chooses elements from a given input a."
   ]
  },
  {
   "cell_type": "code",
   "execution_count": 7,
   "id": "921a565f",
   "metadata": {},
   "outputs": [
    {
     "name": "stdout",
     "output_type": "stream",
     "text": [
      "[[5 3]\n",
      " [3 3]]\n"
     ]
    }
   ],
   "source": [
    "input = [1,2,3,4,5]\n",
    "print(np.random.choice(input, size=(2,2), replace=True, p=[0.1,0.1,0.1,0.1,0.6]))"
   ]
  },
  {
   "cell_type": "raw",
   "id": "07bbff55",
   "metadata": {},
   "source": [
    "The np.random.shuffle(arr) function randomly shuffles the order of the elements of the input array. <b>NOTE that the shuffle function modifies the original array.</b>"
   ]
  },
  {
   "cell_type": "code",
   "execution_count": 8,
   "id": "fec58369",
   "metadata": {},
   "outputs": [
    {
     "name": "stdout",
     "output_type": "stream",
     "text": [
      "[3 1 4 5 2]\n"
     ]
    }
   ],
   "source": [
    "arr=np.array([1,2,3,4,5])\n",
    "np.random.shuffle(arr)\n",
    "print(arr)"
   ]
  },
  {
   "cell_type": "markdown",
   "id": "f8f3be97",
   "metadata": {},
   "source": [
    "The np.random.permutation(arr) function returns a permutation of the elements in the input array. Unlike the shuffle function, the permutation function does not affect the original array."
   ]
  },
  {
   "cell_type": "code",
   "execution_count": 9,
   "id": "2bad3564",
   "metadata": {},
   "outputs": [
    {
     "name": "stdout",
     "output_type": "stream",
     "text": [
      "[4 1 5 3 2]\n"
     ]
    }
   ],
   "source": [
    "arr=np.array([1,2,3,4,5])\n",
    "print(np.random.permutation(arr))"
   ]
  },
  {
   "cell_type": "markdown",
   "id": "1de360c5",
   "metadata": {},
   "source": [
    "The np.random.normal(loc=0, scale=1, size=None) returns random values from a normal distruction with mean=loc and standard deviation = 1."
   ]
  },
  {
   "cell_type": "code",
   "execution_count": 10,
   "id": "27a83064",
   "metadata": {},
   "outputs": [
    {
     "name": "stdout",
     "output_type": "stream",
     "text": [
      "[[1.84217188 1.91588264 1.98874021]\n",
      " [1.99113559 1.98770448 2.02349518]\n",
      " [2.00258734 2.05462299 1.95375071]]\n"
     ]
    }
   ],
   "source": [
    "print(np.random.normal(2,0.1, size=(3,3)))"
   ]
  },
  {
   "cell_type": "markdown",
   "id": "65f60ea7",
   "metadata": {},
   "source": [
    "<font size = 5> <b> Slicing, Indexing and Reshaping Arrays </b> </font> <br>"
   ]
  },
  {
   "cell_type": "markdown",
   "id": "47788467",
   "metadata": {},
   "source": [
    "There are two ways to access an item in a numpy array. We can use standard indexing, or we can use the np.item function. Note that indexing will allow us to extract a row or column, but the np.item function will only allow us to access a single item, not a row."
   ]
  },
  {
   "cell_type": "code",
   "execution_count": 11,
   "id": "871e954f",
   "metadata": {},
   "outputs": [
    {
     "name": "stdout",
     "output_type": "stream",
     "text": [
      "1\n",
      "[1 2]\n",
      "2\n"
     ]
    }
   ],
   "source": [
    "arr=np.array([[1,2],[3,4]])\n",
    "print(arr[0,0])\n",
    "print(arr[0])\n",
    "print(arr.item(0,1))"
   ]
  },
  {
   "cell_type": "markdown",
   "id": "6a19a5e8",
   "metadata": {},
   "source": [
    "We can also index an array with another array."
   ]
  },
  {
   "cell_type": "code",
   "execution_count": 86,
   "id": "97292c3b",
   "metadata": {},
   "outputs": [
    {
     "name": "stdout",
     "output_type": "stream",
     "text": [
      "arr1: [ 5  6  7  8  9 10 11 12 13 14]\n",
      "arr2: [4 1 2]\n",
      "arr1[arr2]: [9 6 7]\n"
     ]
    }
   ],
   "source": [
    "arr1=np.arange(10)+5\n",
    "arr2=np.array([4,1,2])\n",
    "print(\"arr1:\", arr1)\n",
    "print(\"arr2:\", arr2)\n",
    "print(\"arr1[arr2]:\", arr1[arr2])"
   ]
  },
  {
   "cell_type": "markdown",
   "id": "7b1ecfb1",
   "metadata": {},
   "source": [
    "We can slice a matrix using the from:to:by syntax as follows."
   ]
  },
  {
   "cell_type": "code",
   "execution_count": 159,
   "id": "c09052cb",
   "metadata": {},
   "outputs": [
    {
     "name": "stdout",
     "output_type": "stream",
     "text": [
      "Original array\n",
      "[[1 2 3]\n",
      " [4 5 6]\n",
      " [7 8 9]]\n",
      "Only columns 1 and 2: arr[:, 0:2]\n",
      "[[1 2]\n",
      " [4 5]\n",
      " [7 8]]\n",
      "Reverse the order of the rows, not the columns: arr[::-1]\n",
      "[[7 8 9]\n",
      " [4 5 6]\n",
      " [1 2 3]]\n",
      "Reverse the order of the columns, not the rows: arr[:, ::-1]\n",
      "[[3 2 1]\n",
      " [6 5 4]\n",
      " [9 8 7]]\n",
      "Reverse both: arr[::-1, ::-1]\n",
      "[[9 8 7]\n",
      " [6 5 4]\n",
      " [3 2 1]]\n"
     ]
    }
   ],
   "source": [
    "arr=np.array([[1,2,3], [4,5,6], [7,8,9]])\n",
    "print(\"Original array\")\n",
    "print(arr)\n",
    "print(\"Only columns 1 and 2: arr[:, 0:2]\")\n",
    "print(arr[:, 0:2]) #all rows, only cols 0 and 1\n",
    "print(\"Reverse the order of the rows, not the columns: arr[::-1]\")\n",
    "print(arr[::-1]) #reverses the order of the rows, not the columns\n",
    "print(\"Reverse the order of the columns, not the rows: arr[:, ::-1]\")\n",
    "print(arr[:, ::-1]) #reverses the order of the columns, not the rows\n",
    "print(\"Reverse both: arr[::-1, ::-1]\")\n",
    "print(arr[::-1, ::-1]) #reverses both"
   ]
  },
  {
   "cell_type": "markdown",
   "id": "d6d079ef",
   "metadata": {},
   "source": [
    "We can also index an array by using a boolean matrix which will filter the elements. Note that this will flatten the array."
   ]
  },
  {
   "cell_type": "code",
   "execution_count": 160,
   "id": "be0e3482",
   "metadata": {},
   "outputs": [
    {
     "data": {
      "text/plain": [
       "array([2, 4, 6, 8])"
      ]
     },
     "execution_count": 160,
     "metadata": {},
     "output_type": "execute_result"
    }
   ],
   "source": [
    "arr=np.array([[1,2,3], [4,5,6], [7,8,9]])\n",
    "arr[arr%2==0]"
   ]
  },
  {
   "cell_type": "markdown",
   "id": "1cbc4222",
   "metadata": {},
   "source": [
    "We can also filter out items by using a boolean mask. To do this, we create a np ones array, , and index our desired array with the boolean mask."
   ]
  },
  {
   "cell_type": "code",
   "execution_count": 161,
   "id": "ea436391",
   "metadata": {},
   "outputs": [
    {
     "name": "stdout",
     "output_type": "stream",
     "text": [
      "[ 1  2  3  4  5  6  7  8  9 10 11 12]\n",
      "[ True  True  True  True  True  True  True  True  True  True  True  True]\n",
      "[ True  True False  True  True False  True  True False  True  True False]\n",
      "[ 1  2  4  5  7  8 10 11]\n"
     ]
    }
   ],
   "source": [
    "arr=np.arange(12) + 1\n",
    "print(arr)\n",
    "mask=np.ones(len(arr), dtype=bool)\n",
    "print(mask)\n",
    "mask[2::3]=False\n",
    "print(mask)\n",
    "print(arr[mask])"
   ]
  },
  {
   "cell_type": "markdown",
   "id": "a9f6ed13",
   "metadata": {},
   "source": [
    "There are two ways to set an item in a numpy array. We can use standard assignment with the '=' operator, or we can use the np.itemset function."
   ]
  },
  {
   "cell_type": "code",
   "execution_count": 12,
   "id": "c752e94b",
   "metadata": {},
   "outputs": [
    {
     "name": "stdout",
     "output_type": "stream",
     "text": [
      "[[1 1 0]\n",
      " [0 0 0]\n",
      " [0 0 0]]\n"
     ]
    }
   ],
   "source": [
    "arr=np.zeros((3,3), dtype=int)\n",
    "arr[0,0] = 1\n",
    "arr.itemset(0,1,1) #(row, col, val)\n",
    "print(arr)"
   ]
  },
  {
   "cell_type": "markdown",
   "id": "71316db6",
   "metadata": {},
   "source": [
    "The np.take function allows us to extract multiple items at once. The array is \"flattened\", and each element is indexed with a single value."
   ]
  },
  {
   "cell_type": "code",
   "execution_count": 13,
   "id": "b8eb1667",
   "metadata": {},
   "outputs": [
    {
     "data": {
      "text/plain": [
       "array([2, 3])"
      ]
     },
     "execution_count": 13,
     "metadata": {},
     "output_type": "execute_result"
    }
   ],
   "source": [
    "arr=np.array([[1,2],[3,4]])\n",
    "arr.take([1,2])"
   ]
  },
  {
   "cell_type": "markdown",
   "id": "7b1ada13",
   "metadata": {},
   "source": [
    "The np.put function allows us to set multiple items at once. The array is \"flattened\", and we provide first the indicies of the elements to change, and then the values to change them to."
   ]
  },
  {
   "cell_type": "code",
   "execution_count": 14,
   "id": "e4066a97",
   "metadata": {},
   "outputs": [
    {
     "name": "stdout",
     "output_type": "stream",
     "text": [
      "[[ 0. 10.  0.]\n",
      " [ 0.  0. 10.]\n",
      " [ 0.  0. 10.]]\n"
     ]
    }
   ],
   "source": [
    "arr=np.zeros((3,3))\n",
    "arr.put([1,5,8], [10,10,10])\n",
    "print(arr)"
   ]
  },
  {
   "cell_type": "markdown",
   "id": "645f2e82",
   "metadata": {},
   "source": [
    "We can observe the .shape and .size attributes of an array."
   ]
  },
  {
   "cell_type": "code",
   "execution_count": 15,
   "id": "092927b3",
   "metadata": {},
   "outputs": [
    {
     "name": "stdout",
     "output_type": "stream",
     "text": [
      "9\n",
      "(3, 3)\n"
     ]
    }
   ],
   "source": [
    "print(arr.size)\n",
    "print(arr.shape)"
   ]
  },
  {
   "cell_type": "markdown",
   "id": "540bd681",
   "metadata": {},
   "source": [
    "We can slice a numpy array with the \\[from:to:by\\] syntax. Note that this _includes_ the starting point and _excludes_ the ending point. The default is \\[beginning:end:1\\]."
   ]
  },
  {
   "cell_type": "code",
   "execution_count": 16,
   "id": "86f1fe4d",
   "metadata": {},
   "outputs": [
    {
     "name": "stdout",
     "output_type": "stream",
     "text": [
      "arr2:  [1 2 3 4 5 6 7 8 9 0]\n",
      "[1 3 5]\n"
     ]
    }
   ],
   "source": [
    "arr2=np.array([1,2,3,4,5,6,7,8,9,0])\n",
    "print(\"arr2: \", arr2)\n",
    "print(arr2[:5:2])"
   ]
  },
  {
   "cell_type": "markdown",
   "id": "f373e266",
   "metadata": {},
   "source": [
    "We can slice a multidimension array as follows. If only one list-like object is present, such as in arr\\[1:3] then the slicing applies to rows (the outermost dimension) only. If we wish to select specific columns and all rows, then we must specify that, such as with the syntax arr\\[:, 1:3\\] where the first \":\" indicates that we will use all rows, and the \"1:3\" indicates that we will use the second and third columns."
   ]
  },
  {
   "cell_type": "code",
   "execution_count": 17,
   "id": "6cf313d9",
   "metadata": {},
   "outputs": [
    {
     "name": "stdout",
     "output_type": "stream",
     "text": [
      "arr3\n",
      " [[1 2 3]\n",
      " [4 5 6]\n",
      " [7 8 9]]\n",
      "arr3[:, 0:2]\n",
      " [[1 2]\n",
      " [4 5]\n",
      " [7 8]]\n",
      "arr3[::-1]\n",
      " [[7 8 9]\n",
      " [4 5 6]\n",
      " [1 2 3]]\n",
      "arr3[::-1, ::-1]\n",
      " [[9 8 7]\n",
      " [6 5 4]\n",
      " [3 2 1]]\n"
     ]
    }
   ],
   "source": [
    "arr3=np.array([[1,2,3], [4,5,6], [7,8,9]])\n",
    "print(\"arr3\\n\",arr3)\n",
    "print(\"arr3[:, 0:2]\\n\", arr3[:, 0:2]) #all rows, only cols 0 and 1\n",
    "print(\"arr3[::-1]\\n\", arr3[::-1]) #reverses the order of the rows, not the columns\n",
    "print(\"arr3[::-1, ::-1]\\n\", arr3[::-1, ::-1]) #reverses both"
   ]
  },
  {
   "cell_type": "markdown",
   "id": "d12295d2",
   "metadata": {},
   "source": [
    "We can also index an array by passing a boolean array. This returns a _flattened_ array with values from the original array that correspond to True elements in the indexing array."
   ]
  },
  {
   "cell_type": "code",
   "execution_count": 18,
   "id": "bb5afad9",
   "metadata": {},
   "outputs": [
    {
     "name": "stdout",
     "output_type": "stream",
     "text": [
      "Evens only\n",
      "[2 4 6 8]\n"
     ]
    }
   ],
   "source": [
    "print(\"Evens only\")\n",
    "evens=arr3[arr3%2 == 0]\n",
    "print(evens)"
   ]
  },
  {
   "cell_type": "markdown",
   "id": "3ae3ec6d",
   "metadata": {},
   "source": [
    "We can filter out the unique elements of an array with the .unique() function."
   ]
  },
  {
   "cell_type": "code",
   "execution_count": 19,
   "id": "c020a178",
   "metadata": {},
   "outputs": [
    {
     "data": {
      "text/plain": [
       "array([1, 2, 3, 4, 5, 6, 7, 8, 9])"
      ]
     },
     "execution_count": 19,
     "metadata": {},
     "output_type": "execute_result"
    }
   ],
   "source": [
    "np.unique(arr3)"
   ]
  },
  {
   "cell_type": "markdown",
   "id": "889ffc8f",
   "metadata": {},
   "source": [
    "We can reshape or resize arrays with the .reshape and .resize functions. The .reshape() function returns a reshaped array but does not modify the original values, whereas the .resize() function does modify the original values. The array is flattened, and values are filled into the new shape in the order of the flattened array. Note that with the reshape function, we must pass a new shape that maintains the original size of the array. However, with the resize function, we can truncate the array by passing a new size that is smaller than the original array."
   ]
  },
  {
   "cell_type": "code",
   "execution_count": 20,
   "id": "59610266",
   "metadata": {},
   "outputs": [
    {
     "name": "stdout",
     "output_type": "stream",
     "text": [
      "[[1 2 3]\n",
      " [4 5 6]\n",
      " [7 8 9]]\n",
      "[[1 2 3]\n",
      " [4 5 6]\n",
      " [7 8 9]]\n",
      "[[1 2 3 4 5 6 7 8]]\n"
     ]
    }
   ],
   "source": [
    "arr3=np.array([[1,2,3], [4,5,6], [7,8,9]])\n",
    "print(arr3.reshape((3,3))) #returns reshaped array but does not modify original values\n",
    "print(arr3)\n",
    "arr3.resize(1,8)\n",
    "print(arr3)"
   ]
  },
  {
   "cell_type": "markdown",
   "id": "d8596ccb",
   "metadata": {},
   "source": [
    "We can swap axes with the .swapaxes() function. For 2D arrays, this is equivalent to taking the transpose of the matrix."
   ]
  },
  {
   "cell_type": "code",
   "execution_count": 21,
   "id": "52ed2b64",
   "metadata": {},
   "outputs": [
    {
     "name": "stdout",
     "output_type": "stream",
     "text": [
      "[[1 2 3 4 5 6 7 8]]\n"
     ]
    }
   ],
   "source": [
    "arr3.swapaxes(0,1)\n",
    "print(arr3)"
   ]
  },
  {
   "cell_type": "markdown",
   "id": "5941200e",
   "metadata": {},
   "source": [
    "We can flatten a multidimensional array with the .flatten() function. By default, we flatten rows first, so the output 1D array contains the first row, then the second row, and so on until the last row. We can also flatten by columns by passing 'F' to the flatten function. Note that this function does not modify the original array."
   ]
  },
  {
   "cell_type": "code",
   "execution_count": 22,
   "id": "739b47f0",
   "metadata": {},
   "outputs": [
    {
     "name": "stdout",
     "output_type": "stream",
     "text": [
      "[1 2 3 4 5 6 7 8 9]\n",
      "[1 4 7 2 5 8 3 6 9]\n"
     ]
    }
   ],
   "source": [
    "arr3=np.array([[1,2,3], [4,5,6], [7,8,9]])\n",
    "print(arr3.flatten())\n",
    "print(arr3.flatten(\"F\"))"
   ]
  },
  {
   "cell_type": "markdown",
   "id": "f2b8da7f",
   "metadata": {},
   "source": [
    "We can sort the items in each row or column using the .sort() function. The axis argument of this function represents whether the rows or columns are sorted. If axis = 0, then we sort the items in each row. If axis = 2, we do columns."
   ]
  },
  {
   "cell_type": "code",
   "execution_count": 28,
   "id": "de5edf80",
   "metadata": {},
   "outputs": [
    {
     "name": "stdout",
     "output_type": "stream",
     "text": [
      "[[5 1 3]\n",
      " [2 4 1]\n",
      " [6 0 3]]\n",
      "[[2 0 1]\n",
      " [5 1 3]\n",
      " [6 4 3]]\n",
      "[[1 3 5]\n",
      " [1 2 4]\n",
      " [0 3 6]]\n"
     ]
    }
   ],
   "source": [
    "arr4 = np.array([[5,1,3], [2,4,1], [6,0,3]])\n",
    "arr5 = arr4.copy()\n",
    "print(arr5)\n",
    "arr5.sort(axis=0)\n",
    "print(arr5)\n",
    "arr4.sort(axis=1)\n",
    "print(arr4)"
   ]
  },
  {
   "cell_type": "markdown",
   "id": "e26b38eb",
   "metadata": {},
   "source": [
    "<font size = 5> <b> Stacking and Splitting Arrays </b> </font> <br>"
   ]
  },
  {
   "cell_type": "markdown",
   "id": "be33ffcd",
   "metadata": {},
   "source": [
    "We can \"stack\" two matricies together using .hstack and .vstack."
   ]
  },
  {
   "cell_type": "code",
   "execution_count": 29,
   "id": "44890c78",
   "metadata": {},
   "outputs": [
    {
     "name": "stdout",
     "output_type": "stream",
     "text": [
      "arr1\n",
      " [[4 9]\n",
      " [2 0]]\n",
      "arr2\n",
      " [[5 4]\n",
      " [5 9]]\n",
      "vertical stack:\n",
      " [[4 9]\n",
      " [2 0]\n",
      " [5 4]\n",
      " [5 9]]\n",
      "horizontal stack:\n",
      " [[4 9 5 4]\n",
      " [2 0 5 9]]\n"
     ]
    }
   ],
   "source": [
    "arr1 = np.random.randint(10, size=(2,2)) #ints [0,10)\n",
    "print(\"arr1\\n\", arr1)\n",
    "arr2 = np.random.randint(10, size=(2,2))\n",
    "print(\"arr2\\n\", arr2)\n",
    "print(\"vertical stack:\\n\", np.vstack((arr1, arr2)))\n",
    "print(\"horizontal stack:\\n\", np.hstack((arr1, arr2)))"
   ]
  },
  {
   "cell_type": "markdown",
   "id": "be31e858",
   "metadata": {},
   "source": [
    "We can also stack matricies using the column_stack and row_stack functions. These functions take a tuple of two  1D arrays as an input, and returns an array of the two input arrays stacked as either columns or rows."
   ]
  },
  {
   "cell_type": "code",
   "execution_count": 43,
   "id": "792da0bd",
   "metadata": {},
   "outputs": [
    {
     "name": "stdout",
     "output_type": "stream",
     "text": [
      "[[1 2 3]\n",
      " [4 5 6]]\n",
      "[[1 4]\n",
      " [2 5]\n",
      " [3 6]]\n"
     ]
    }
   ],
   "source": [
    "print(np.row_stack(([1,2,3],[4,5,6])))\n",
    "print(np.column_stack(([1,2,3],[4,5,6])))"
   ]
  },
  {
   "cell_type": "markdown",
   "id": "e72fe7a0",
   "metadata": {},
   "source": [
    "We can delete a row or column using the .delete function. The .delete(arr, obj, axis) function returns an array with sub-arrays along an axis deleted. If axis=0, then we delete a row, whereas if axis=1, we delete a column. The obj attribute determines which rows or columns we delete. Note that this function does not affect the original array."
   ]
  },
  {
   "cell_type": "code",
   "execution_count": 36,
   "id": "a314d3bb",
   "metadata": {},
   "outputs": [
    {
     "name": "stdout",
     "output_type": "stream",
     "text": [
      "arr1:\n",
      "  [[4 9]\n",
      " [2 0]]\n",
      "delete(arr1,0,0):\n",
      " [[2 0]]\n",
      "delete(arr1,1,1):\n",
      " [[4]\n",
      " [2]]\n"
     ]
    }
   ],
   "source": [
    "print(\"arr1:\\n \", arr1)\n",
    "arr2=np.delete(arr1, 0, 0)\n",
    "print(\"delete(arr1,0,0):\\n\", arr2)\n",
    "arr3=np.delete(arr1, 1, 1)\n",
    "print(\"delete(arr1,1,1):\\n\", arr3)"
   ]
  },
  {
   "cell_type": "markdown",
   "id": "c0eb6fea",
   "metadata": {},
   "source": [
    "We can split a matrix by columns or rows using the hsplit(arr, index or section) and vsplit(arr, index or section) functions. The second argument to these functions can be either the number of subarrays to split the array into, or the indexes of the ending positions of the intermediary subarrays."
   ]
  },
  {
   "cell_type": "code",
   "execution_count": 52,
   "id": "b083d372",
   "metadata": {},
   "outputs": [
    {
     "name": "stdout",
     "output_type": "stream",
     "text": [
      "[[4 6 9 1 0 4 5 2 7 1]\n",
      " [2 0 5 1 9 3 0 6 9 4]]\n",
      "hsplit: [array([[4, 6],\n",
      "       [2, 0]]), array([[9, 1],\n",
      "       [5, 1]]), array([[0, 4],\n",
      "       [9, 3]]), array([[5, 2],\n",
      "       [0, 6]]), array([[7, 1],\n",
      "       [9, 4]])]\n",
      "hsplit: [array([[4, 6],\n",
      "       [2, 0]]), array([[9, 1, 0, 4, 5, 2],\n",
      "       [5, 1, 9, 3, 0, 6]]), array([[7, 1],\n",
      "       [9, 4]])]\n",
      "vsplit: [array([[4, 6, 9, 1, 0, 4, 5, 2, 7, 1]]), array([[2, 0, 5, 1, 9, 3, 0, 6, 9, 4]])]\n"
     ]
    }
   ],
   "source": [
    "arr = np.random.randint(10, size=(2,10))\n",
    "print(arr)\n",
    "print(\"hsplit:\",np.hsplit(arr, 5))\n",
    "print(\"hsplit:\", np.hsplit(arr, [2,8]))\n",
    "print(\"vsplit:\", np.vsplit(arr,2))"
   ]
  },
  {
   "cell_type": "markdown",
   "id": "e9dd463a",
   "metadata": {},
   "source": [
    "<font size = 5> <b> Basic Math </b> </font> <br>"
   ]
  },
  {
   "cell_type": "markdown",
   "id": "4e7501d3",
   "metadata": {},
   "source": [
    "We can perform the following basic mathematical functions on numpy arrays."
   ]
  },
  {
   "cell_type": "code",
   "execution_count": 56,
   "id": "3fe8af67",
   "metadata": {},
   "outputs": [],
   "source": [
    "arr1=np.array([1,2,3,4])\n",
    "arr2=np.array([2,4,6,8])\n",
    "arr3=np.arange(16).reshape(4,4)"
   ]
  },
  {
   "cell_type": "markdown",
   "id": "41980d2d",
   "metadata": {},
   "source": [
    "Addition, subtraction, multiplication and division"
   ]
  },
  {
   "cell_type": "code",
   "execution_count": 55,
   "id": "c216330f",
   "metadata": {},
   "outputs": [
    {
     "name": "stdout",
     "output_type": "stream",
     "text": [
      "[ 3  6  9 12]\n",
      "[-1 -2 -3 -4]\n",
      "[ 2  8 18 32]\n",
      "[0.5 0.5 0.5 0.5]\n"
     ]
    }
   ],
   "source": [
    "print(arr1+arr2)\n",
    "print(arr1-arr2)\n",
    "print(arr1*arr2)\n",
    "print(arr1/arr2)"
   ]
  },
  {
   "cell_type": "markdown",
   "id": "aee8ac92",
   "metadata": {},
   "source": [
    "Summation"
   ]
  },
  {
   "cell_type": "code",
   "execution_count": 65,
   "id": "9310c243",
   "metadata": {},
   "outputs": [
    {
     "name": "stdout",
     "output_type": "stream",
     "text": [
      "arr1: [1 2 3 4]\n",
      "arr1.sum(): 10\n",
      "arr3:\n",
      " [[ 0  1  2  3]\n",
      " [ 4  5  6  7]\n",
      " [ 8  9 10 11]\n",
      " [12 13 14 15]]\n",
      "arr3.sum(axis=0) [24 28 32 36]\n",
      "arr3.sum(axis=1) [ 6 22 38 54]\n"
     ]
    }
   ],
   "source": [
    "print(\"arr1:\", arr1)\n",
    "print(\"arr1.sum():\", arr1.sum())\n",
    "print(\"arr3:\\n\", arr3)\n",
    "print(\"arr3.sum(axis=0)\", arr3.sum(axis=0))\n",
    "print(\"arr3.sum(axis=1)\", arr3.sum(axis=1))"
   ]
  },
  {
   "cell_type": "markdown",
   "id": "6c52aa46",
   "metadata": {},
   "source": [
    "Cumulative sum"
   ]
  },
  {
   "cell_type": "code",
   "execution_count": 67,
   "id": "775dde16",
   "metadata": {},
   "outputs": [
    {
     "name": "stdout",
     "output_type": "stream",
     "text": [
      "arr1:\n",
      " [1 2 3 4]\n",
      "arr1.cumsum()\n",
      " [ 1  3  6 10]\n",
      "arr3:\n",
      " [[ 0  1  2  3]\n",
      " [ 4  5  6  7]\n",
      " [ 8  9 10 11]\n",
      " [12 13 14 15]]\n",
      "arr3.cumsum(axis=0)\n",
      " [[ 0  1  2  3]\n",
      " [ 4  6  8 10]\n",
      " [12 15 18 21]\n",
      " [24 28 32 36]]\n"
     ]
    }
   ],
   "source": [
    "print(\"arr1:\\n\", arr1)\n",
    "print(\"arr1.cumsum()\\n\", arr1.cumsum())\n",
    "print(\"arr3:\\n\", arr3)\n",
    "print(\"arr3.cumsum(axis=0)\\n\", arr3.cumsum(axis=0))"
   ]
  },
  {
   "cell_type": "markdown",
   "id": "4bbe3dbc",
   "metadata": {},
   "source": [
    "Minimum and maximum.\n",
    "\n",
    "Heuristic to remember axis directionality: Axis = 0 means apply function to each column separately, going row by row. Axis = 1 means apply function to each row separately, going column by column. <b>Axis = 0 means output matches up with a row, axis = 1 means output matches up with a column.</b> "
   ]
  },
  {
   "cell_type": "code",
   "execution_count": 62,
   "id": "e5947cd6",
   "metadata": {},
   "outputs": [
    {
     "name": "stdout",
     "output_type": "stream",
     "text": [
      "1\n",
      "[ 3  7 11 15]\n"
     ]
    }
   ],
   "source": [
    "print(arr1.min())\n",
    "print(arr3.max(axis=1))"
   ]
  },
  {
   "cell_type": "markdown",
   "id": "04f3e1bd",
   "metadata": {},
   "source": [
    "Arithmetic with np functions"
   ]
  },
  {
   "cell_type": "code",
   "execution_count": 82,
   "id": "5ebccfe0",
   "metadata": {},
   "outputs": [
    {
     "name": "stdout",
     "output_type": "stream",
     "text": [
      "arr1: [1 2 3 4] \n",
      "arr2: [2 4 6 8]\n",
      "np.add(arr1, arr2): [ 3  6  9 12]\n",
      "np.subtract(arr1, arr2): [-1 -2 -3 -4]\n",
      "np.multiply(arr1, arr2): [ 2  8 18 32]\n",
      "np.divide(arr1, arr2): [0.5 0.5 0.5 0.5]\n",
      "np.remainder(arr1, arr2): [1 2 3 4]\n",
      "np.power(arr1, arr2): [    1    16   729 65536]\n",
      "np.sqrt(arr1): [1.         1.41421356 1.73205081 2.        ]\n",
      "np.sqrt(arr1): [1.         1.41421356 1.73205081 2.        ]\n",
      "np.cbrt(arr1): [1.         1.25992105 1.44224957 1.58740105]\n",
      "np.absolute(-arr1): [1 2 3 4]\n",
      "np.exp(arr1): [ 2.71828183  7.3890561  20.08553692 54.59815003]\n",
      "np.log(arr1): [0.         0.69314718 1.09861229 1.38629436]\n",
      "np.log2(arr1): [0.        1.        1.5849625 2.       ]\n",
      "np.log10(arr1): [0.         0.30103    0.47712125 0.60205999]\n",
      "np.gcd.reduce([9,15,12]): 3\n",
      "np.lcm.reduce([9,15,12]): 180\n",
      "np.floor([0.2,1.2]): [0. 1.]\n",
      "np.ceil([0.2,1.2]): [1. 2.]\n"
     ]
    }
   ],
   "source": [
    "print(\"arr1:\", arr1, \"\\narr2:\", arr2)\n",
    "print(\"np.add(arr1, arr2):\", np.add(arr1, arr2))\n",
    "print(\"np.subtract(arr1, arr2):\", np.subtract(arr1, arr2))\n",
    "print(\"np.multiply(arr1, arr2):\", np.multiply(arr1, arr2))\n",
    "print(\"np.divide(arr1, arr2):\", np.divide(arr1, arr2))\n",
    "print(\"np.remainder(arr1, arr2):\", np.remainder(arr1, arr2)) #divide first input by second input and take remainder\n",
    "print(\"np.power(arr1, arr2):\", np.power(arr1, arr2))\n",
    "print(\"np.sqrt(arr1):\", np.sqrt(arr1))\n",
    "print(\"np.sqrt(arr1):\", np.sqrt(arr1))\n",
    "print(\"np.cbrt(arr1):\", np.cbrt(arr1))\n",
    "print(\"np.absolute(-arr1):\", np.absolute(-arr1))\n",
    "print(\"np.exp(arr1):\", np.exp(arr1))\n",
    "print(\"np.log(arr1):\", np.log(arr1)) #default base e\n",
    "print(\"np.log2(arr1):\", np.log2(arr1))\n",
    "print(\"np.log10(arr1):\", np.log10(arr1))\n",
    "print(\"np.gcd.reduce([9,15,12]):\", np.gcd.reduce([9,15,12]))\n",
    "print(\"np.lcm.reduce([9,15,12]):\", np.lcm.reduce([9,15,12]))\n",
    "print(\"np.floor([0.2,1.2]):\", np.floor([0.2,1.2]))\n",
    "print(\"np.ceil([0.2,1.2]):\", np.ceil([0.2,1.2]))"
   ]
  },
  {
   "cell_type": "markdown",
   "id": "91ec44c4",
   "metadata": {},
   "source": [
    "Argmax and argmin"
   ]
  },
  {
   "cell_type": "code",
   "execution_count": 136,
   "id": "5c1ebadd",
   "metadata": {},
   "outputs": [
    {
     "name": "stdout",
     "output_type": "stream",
     "text": [
      "arr1: [[5 0 3]\n",
      " [3 7 9]\n",
      " [3 5 2]\n",
      " [4 7 6]\n",
      " [8 8 1]]\n",
      "arr1.argmax(axis=0): [4 4 1]\n",
      "rowIndicies: [4 4 1]\n",
      "colIndicies: [0 2 1 1 0]\n",
      "Highest values in each column: [8 8 9]\n",
      "Highest values in each row: [5 9 5 7 8]\n"
     ]
    }
   ],
   "source": [
    "np.random.seed(0)\n",
    "arr1 = np.random.randint(10, size=(5,3))\n",
    "print(\"arr1:\", arr1)\n",
    "print(\"arr1.argmax(axis=0):\", arr1.argmax(axis=0))\n",
    "rowIndicies=arr1.argmax(axis=0)\n",
    "print(\"rowIndicies:\", rowIndicies)\n",
    "colIndicies=arr1.argmax(axis=1)\n",
    "print(\"colIndicies:\", colIndicies)\n",
    "print(\"Highest values in each column:\", arr1[rowIndicies,np.arange(arr1.shape[1])]) #number of columns == length of a row\n",
    "print(\"Highest values in each row:\", arr1[np.arange(arr1.shape[0]), colIndicies]) #number of rows == length of a column"
   ]
  },
  {
   "cell_type": "markdown",
   "id": "97834978",
   "metadata": {},
   "source": [
    "<font size = 5> <b> Stats functions </b> </font> <br>"
   ]
  },
  {
   "cell_type": "markdown",
   "id": "3a926373",
   "metadata": {},
   "source": [
    "We can use the following basic statistics functions."
   ]
  },
  {
   "cell_type": "code",
   "execution_count": 142,
   "id": "7b3f9b74",
   "metadata": {},
   "outputs": [
    {
     "name": "stdout",
     "output_type": "stream",
     "text": [
      "arr: [3 5 7 9]\n",
      "np.mean(arr): 6.0\n",
      "np.median(arr): 6.0\n",
      "np.std(arr): 2.23606797749979\n",
      "np.var(arr): 5.0\n"
     ]
    }
   ],
   "source": [
    "arr=np.arange(3,10,2)\n",
    "print(\"arr:\", arr)\n",
    "print(\"np.mean(arr):\", np.mean(arr))\n",
    "print(\"np.median(arr):\", np.median(arr))\n",
    "print(\"np.std(arr):\", np.std(arr))\n",
    "print(\"np.var(arr):\", np.var(arr))"
   ]
  },
  {
   "cell_type": "markdown",
   "id": "1d73da73",
   "metadata": {},
   "source": [
    "If our array contains missing data, we can use the following variations of the above functions"
   ]
  },
  {
   "cell_type": "code",
   "execution_count": 144,
   "id": "1850434d",
   "metadata": {},
   "outputs": [
    {
     "name": "stdout",
     "output_type": "stream",
     "text": [
      "arr: [ 1.  2.  3. nan]\n",
      "np.nanmean(arr): 2.0\n",
      "np.nanmedian(arr): 2.0\n",
      "np.nanstd(arr): 0.816496580927726\n",
      "np.nanvar(arr): 0.6666666666666666\n"
     ]
    }
   ],
   "source": [
    "arr=np.array([1,2,3,np.nan])\n",
    "print(\"arr:\", arr)\n",
    "print(\"np.nanmean(arr):\", np.nanmean(arr))\n",
    "print(\"np.nanmedian(arr):\", np.nanmedian(arr))\n",
    "print(\"np.nanstd(arr):\", np.nanstd(arr))\n",
    "print(\"np.nanvar(arr):\", np.nanvar(arr))"
   ]
  },
  {
   "cell_type": "markdown",
   "id": "de9d4db7",
   "metadata": {},
   "source": [
    "Percentile"
   ]
  },
  {
   "cell_type": "code",
   "execution_count": 147,
   "id": "2f693e2d",
   "metadata": {},
   "outputs": [
    {
     "name": "stdout",
     "output_type": "stream",
     "text": [
      "arr: [ 0  1  2  3  4  5  6  7  8  9 10 11 12 13 14 15 16 17 18 19]\n",
      "50th percentile: 9.5\n",
      "20th percentile: 3.8000000000000003\n"
     ]
    }
   ],
   "source": [
    "arr=np.arange(20)\n",
    "print(\"arr:\", arr)\n",
    "print(\"50th percentile:\", np.percentile(arr, 50))\n",
    "print(\"20th percentile:\", np.percentile(arr, 20))"
   ]
  },
  {
   "cell_type": "markdown",
   "id": "1adaf3e4",
   "metadata": {},
   "source": [
    "Correlation coefficient with two input arrays"
   ]
  },
  {
   "cell_type": "code",
   "execution_count": 149,
   "id": "12ed2f90",
   "metadata": {},
   "outputs": [
    {
     "data": {
      "text/plain": [
       "0.9096563897839379"
      ]
     },
     "execution_count": 149,
     "metadata": {},
     "output_type": "execute_result"
    }
   ],
   "source": [
    "x=np.arange(10)\n",
    "y=np.array([1,2,5,3,4,7,5,6,8,9])\n",
    "np.corrcoef(x,y)[0,1]"
   ]
  },
  {
   "cell_type": "markdown",
   "id": "04d3eeaa",
   "metadata": {},
   "source": [
    "Correlation coefficient with multiple input arrays. Note that by default, the rows are treated as the variables, and rows are compared with eachother. By setting rowvar=False, we treat the columns as the variables, and compare columns with each other. For a stardard dataframe where each row is an observation and each column is a variable, we would want to set rowvar to False."
   ]
  },
  {
   "cell_type": "code",
   "execution_count": 157,
   "id": "d221dee2",
   "metadata": {},
   "outputs": [
    {
     "name": "stdout",
     "output_type": "stream",
     "text": [
      "Input array:\n",
      " [[0.97645947 0.4686512  0.97676109 0.60484552]\n",
      " [0.73926358 0.03918779 0.28280696 0.12019656]\n",
      " [0.2961402  0.11872772 0.31798318 0.41426299]]\n"
     ]
    },
    {
     "data": {
      "text/plain": [
       "array([[1.        , 0.64362772, 0.73737479, 0.22595909],\n",
       "       [0.64362772, 1.        , 0.99156879, 0.89097814],\n",
       "       [0.73737479, 0.99156879, 1.        , 0.8246302 ],\n",
       "       [0.22595909, 0.89097814, 0.8246302 , 1.        ]])"
      ]
     },
     "execution_count": 157,
     "metadata": {},
     "output_type": "execute_result"
    }
   ],
   "source": [
    "x=np.random.rand(3,4)\n",
    "print(\"Input array:\\n\", x)\n",
    "np.corrcoef(x, rowvar=False)"
   ]
  }
 ],
 "metadata": {
  "kernelspec": {
   "display_name": "Python 3 (ipykernel)",
   "language": "python",
   "name": "python3"
  },
  "language_info": {
   "codemirror_mode": {
    "name": "ipython",
    "version": 3
   },
   "file_extension": ".py",
   "mimetype": "text/x-python",
   "name": "python",
   "nbconvert_exporter": "python",
   "pygments_lexer": "ipython3",
   "version": "3.9.7"
  }
 },
 "nbformat": 4,
 "nbformat_minor": 5
}
