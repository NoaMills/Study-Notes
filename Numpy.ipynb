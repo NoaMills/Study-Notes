{
 "cells": [
  {
   "cell_type": "markdown",
   "id": "fe658a7a",
   "metadata": {},
   "source": [
    "<font size = 6> <b> Numpy! </b> </font>"
   ]
  },
  {
   "cell_type": "code",
   "execution_count": 1,
   "id": "b5633da0",
   "metadata": {},
   "outputs": [],
   "source": [
    "import numpy as np\n",
    "from numpy import random"
   ]
  },
  {
   "cell_type": "markdown",
   "id": "20cf7c34",
   "metadata": {},
   "source": [
    "<font size = 5> <b> Creating Numpy Arrays </b> </font> <br>\n",
    "<font size = 3> <b> Method 1: Numpy Array from Python List </b></font>"
   ]
  },
  {
   "cell_type": "code",
   "execution_count": 2,
   "id": "e0af0689",
   "metadata": {},
   "outputs": [
    {
     "name": "stdout",
     "output_type": "stream",
     "text": [
      "npArr1: \n",
      " [1 2 3 4 5]\n",
      "npArr2: \n",
      " [[1 2 3]\n",
      " [4 5 6]\n",
      " [7 8 9]]\n"
     ]
    }
   ],
   "source": [
    "list1=[1,2,3,4,5]\n",
    "npArr1 = np.array(list1, dtype=np.int16) #type specification is optional\n",
    "print(\"npArr1: \\n\", npArr1)\n",
    "list2=[[1,2,3],[4,5,6],[7,8,9]]\n",
    "npArr2=np.array(list2)\n",
    "print(\"npArr2: \\n\", npArr2)"
   ]
  },
  {
   "cell_type": "markdown",
   "id": "07492f2a",
   "metadata": {},
   "source": [
    "<font size = 3><b> Method 2: Using arange and linspace </b> </font> <br><br>\n",
    "The arange(start, stop, step) constructs a np array from the starting position (inclusive) to the ending position (exclusive) in increments defined by the step size. Default step size = 1. Compared to linspace, arange gives the user more control over the step size. <br><br>\n",
    "The linspace(start, stop, array length) constructs a np array from the starting position (inclusive) to the ending position (inclusive) with equally spaced value. The returned array will have the specified number of elements. Compared to arange, linspace gives the user more control over the start and stop values."
   ]
  },
  {
   "cell_type": "code",
   "execution_count": 3,
   "id": "02c6a19c",
   "metadata": {},
   "outputs": [
    {
     "name": "stdout",
     "output_type": "stream",
     "text": [
      "arange: [1 3 5 7 9]\n",
      "linspace: [ 0.          3.33333333  6.66666667 10.        ]\n"
     ]
    }
   ],
   "source": [
    "print(\"arange:\", np.arange(1,10, 2))\n",
    "print(\"linspace:\", np.linspace(0,10,4))"
   ]
  },
  {
   "cell_type": "markdown",
   "id": "ea41a9dd",
   "metadata": {},
   "source": [
    "<font size = 3><b> Method 3: Using ones and zeros </b> </font>"
   ]
  },
  {
   "cell_type": "code",
   "execution_count": 4,
   "id": "2fab5531",
   "metadata": {},
   "outputs": [
    {
     "name": "stdout",
     "output_type": "stream",
     "text": [
      "[0. 0.]\n",
      "[[0. 0.]\n",
      " [0. 0.]]\n",
      "12\n",
      "(3, 4)\n",
      "float64\n"
     ]
    }
   ],
   "source": [
    "print(np.zeros(2))\n",
    "print(np.zeros((2,2)))\n",
    "print(np.ones((3,4)).size)\n",
    "print(np.ones((3,4)).shape)\n",
    "print(np.ones((3,4)).dtype)"
   ]
  },
  {
   "cell_type": "markdown",
   "id": "27c5d37c",
   "metadata": {},
   "source": [
    "<font size = 3><b> Method 4: Creating random arrays</b> </font><br><br>\n",
    "The np.random.randint(from, to, size) function generates an array of size n with integers values ranging from (inclusive) and to (exclusive) the first two arguments. Default from = 0, size = 1.<br><br>"
   ]
  },
  {
   "cell_type": "code",
   "execution_count": 5,
   "id": "c60a2ab7",
   "metadata": {},
   "outputs": [
    {
     "name": "stdout",
     "output_type": "stream",
     "text": [
      "[12 15 14 14 16 19 11 17 18 15]\n",
      "[[13 11]\n",
      " [10 16]]\n"
     ]
    }
   ],
   "source": [
    "print(np.random.randint(10,21,10)) #from (inclusive), to (exclusive), n\n",
    "print(np.random.randint(10,21, size=(2,2)))"
   ]
  },
  {
   "cell_type": "markdown",
   "id": "a0cf51f9",
   "metadata": {},
   "source": [
    "The np.random.rand(n) function creates an array of size n with random values from a uniform distribution from 0 to 1. Default n=1."
   ]
  },
  {
   "cell_type": "code",
   "execution_count": 6,
   "id": "ea550bca",
   "metadata": {},
   "outputs": [
    {
     "name": "stdout",
     "output_type": "stream",
     "text": [
      "0.672770046677414\n",
      "[[0.62618377 0.72973687]\n",
      " [0.61103718 0.13547415]]\n"
     ]
    }
   ],
   "source": [
    "print(np.random.rand())\n",
    "print(np.random.rand(2,2))"
   ]
  },
  {
   "cell_type": "markdown",
   "id": "d34943a6",
   "metadata": {},
   "source": [
    "The np.random.choice(a, size=None, replace=True, p=None) function randomly chooses elements from a given input a."
   ]
  },
  {
   "cell_type": "code",
   "execution_count": 7,
   "id": "921a565f",
   "metadata": {},
   "outputs": [
    {
     "name": "stdout",
     "output_type": "stream",
     "text": [
      "[[2 5]\n",
      " [3 2]]\n"
     ]
    }
   ],
   "source": [
    "input = [1,2,3,4,5]\n",
    "print(np.random.choice(input, size=(2,2), replace=True, p=[0.1,0.1,0.1,0.1,0.6]))"
   ]
  },
  {
   "cell_type": "raw",
   "id": "07bbff55",
   "metadata": {},
   "source": [
    "The np.random.shuffle(arr) function randomly shuffles the order of the elements of the input array. <b>NOTE that the shuffle function modifies the original array.</b>"
   ]
  },
  {
   "cell_type": "code",
   "execution_count": 8,
   "id": "fec58369",
   "metadata": {},
   "outputs": [
    {
     "name": "stdout",
     "output_type": "stream",
     "text": [
      "[2 4 3 5 1]\n"
     ]
    }
   ],
   "source": [
    "arr=np.array([1,2,3,4,5])\n",
    "np.random.shuffle(arr)\n",
    "print(arr)"
   ]
  },
  {
   "cell_type": "markdown",
   "id": "f8f3be97",
   "metadata": {},
   "source": [
    "The np.random.permutation(arr) function returns a permutation of the elements in the input array. Unlike the shuffle function, the permutation function does not affect the original array."
   ]
  },
  {
   "cell_type": "code",
   "execution_count": 9,
   "id": "2bad3564",
   "metadata": {},
   "outputs": [
    {
     "name": "stdout",
     "output_type": "stream",
     "text": [
      "[4 2 3 1 5]\n"
     ]
    }
   ],
   "source": [
    "arr=np.array([1,2,3,4,5])\n",
    "print(np.random.permutation(arr))"
   ]
  },
  {
   "cell_type": "markdown",
   "id": "1de360c5",
   "metadata": {},
   "source": [
    "The np.random.normal(loc=0, scale=1, size=None) returns random values from a normal distruction with mean=loc and standard deviation = 1."
   ]
  },
  {
   "cell_type": "code",
   "execution_count": 10,
   "id": "27a83064",
   "metadata": {},
   "outputs": [
    {
     "name": "stdout",
     "output_type": "stream",
     "text": [
      "[[1.84484052 1.98118519 2.11342608]\n",
      " [1.82833679 2.09128662 2.04067067]\n",
      " [1.91606073 1.86303647 2.06999231]]\n"
     ]
    }
   ],
   "source": [
    "print(np.random.normal(2,0.1, size=(3,3)))"
   ]
  },
  {
   "cell_type": "markdown",
   "id": "65f60ea7",
   "metadata": {},
   "source": [
    "<font size = 5> <b> Slicing and Indexing </b> </font> <br>"
   ]
  },
  {
   "cell_type": "markdown",
   "id": "47788467",
   "metadata": {},
   "source": [
    "There are two ways to access an item in a numpy array. We can use standard indexing, or we can use the np.item function. Note that indexing will allow us to extract a row or column, but the np.item function will only allow us to access a single item, not a row."
   ]
  },
  {
   "cell_type": "code",
   "execution_count": 11,
   "id": "871e954f",
   "metadata": {},
   "outputs": [
    {
     "name": "stdout",
     "output_type": "stream",
     "text": [
      "1\n",
      "[1 2]\n",
      "2\n"
     ]
    }
   ],
   "source": [
    "arr=np.array([[1,2],[3,4]])\n",
    "print(arr[0,0])\n",
    "print(arr[0])\n",
    "print(arr.item(0,1))"
   ]
  },
  {
   "cell_type": "markdown",
   "id": "a9f6ed13",
   "metadata": {},
   "source": [
    "There are two ways to set an item in a numpy array. We can use standard assignment with the '=' operator, or we can use the np.itemset function."
   ]
  },
  {
   "cell_type": "code",
   "execution_count": 12,
   "id": "c752e94b",
   "metadata": {},
   "outputs": [
    {
     "name": "stdout",
     "output_type": "stream",
     "text": [
      "[[1 1 0]\n",
      " [0 0 0]\n",
      " [0 0 0]]\n"
     ]
    }
   ],
   "source": [
    "arr=np.zeros((3,3), dtype=int)\n",
    "arr[0,0] = 1\n",
    "arr.itemset(0,1,1) #(row, col, val)\n",
    "print(arr)"
   ]
  },
  {
   "cell_type": "markdown",
   "id": "71316db6",
   "metadata": {},
   "source": [
    "The np.take function allows us to extract multiple items at once. The array is \"flattened\", and each element is indexed with a single value."
   ]
  },
  {
   "cell_type": "code",
   "execution_count": 13,
   "id": "b8eb1667",
   "metadata": {},
   "outputs": [
    {
     "data": {
      "text/plain": [
       "array([2, 3])"
      ]
     },
     "execution_count": 13,
     "metadata": {},
     "output_type": "execute_result"
    }
   ],
   "source": [
    "arr=np.array([[1,2],[3,4]])\n",
    "arr.take([1,2])"
   ]
  },
  {
   "cell_type": "markdown",
   "id": "7b1ada13",
   "metadata": {},
   "source": [
    "The np.put function allows us to set multiple items at once. The array is \"flattened\", and we provide first the indicies of the elements to change, and then the values to change them to."
   ]
  },
  {
   "cell_type": "code",
   "execution_count": 15,
   "id": "e4066a97",
   "metadata": {},
   "outputs": [
    {
     "name": "stdout",
     "output_type": "stream",
     "text": [
      "[[ 0. 10.  0.]\n",
      " [ 0.  0. 10.]\n",
      " [ 0.  0. 10.]]\n"
     ]
    }
   ],
   "source": [
    "arr=np.zeros((3,3))\n",
    "arr.put([1,5,8], [10,10,10])\n",
    "print(arr)"
   ]
  },
  {
   "cell_type": "markdown",
   "id": "645f2e82",
   "metadata": {},
   "source": [
    "We can observe the .shape and .size attributes of an array."
   ]
  },
  {
   "cell_type": "code",
   "execution_count": 16,
   "id": "092927b3",
   "metadata": {},
   "outputs": [
    {
     "name": "stdout",
     "output_type": "stream",
     "text": [
      "9\n",
      "(3, 3)\n"
     ]
    }
   ],
   "source": [
    "print(arr.size)\n",
    "print(arr.shape)"
   ]
  },
  {
   "cell_type": "markdown",
   "id": "540bd681",
   "metadata": {},
   "source": [
    "We can slice a numpy array with the \\[from:to:by\\] syntax. Note that this _includes_ the starting point and _excludes_ the ending point. The default is \\[beginning:end:1\\]."
   ]
  },
  {
   "cell_type": "code",
   "execution_count": 17,
   "id": "86f1fe4d",
   "metadata": {},
   "outputs": [
    {
     "name": "stdout",
     "output_type": "stream",
     "text": [
      "arr2:  [1 2 3 4 5 6 7 8 9 0]\n",
      "[1 3 5]\n"
     ]
    }
   ],
   "source": [
    "arr2=np.array([1,2,3,4,5,6,7,8,9,0])\n",
    "print(\"arr2: \", arr2)\n",
    "print(arr2[:5:2])"
   ]
  },
  {
   "cell_type": "markdown",
   "id": "f373e266",
   "metadata": {},
   "source": [
    "We can slice a multidimension array as follows. If only one list-like object is present, such as in arr\\[1:3]\\ then the slicing applies to rows (the outermost dimension) only. If we wish to select specific columns and all rows, then we must specify that, such as with the syntax arr\\[:, 1:3\\] where the first \":\" indicates that we will use all rows, and the \"1:3\" indicates that we will use the second and third columns."
   ]
  },
  {
   "cell_type": "code",
   "execution_count": 24,
   "id": "6cf313d9",
   "metadata": {},
   "outputs": [
    {
     "name": "stdout",
     "output_type": "stream",
     "text": [
      "arr3\n",
      " [[1 2 3]\n",
      " [4 5 6]\n",
      " [7 8 9]]\n",
      "arr3[:, 0:2]\n",
      " [[1 2]\n",
      " [4 5]\n",
      " [7 8]]\n",
      "arr3[::-1]\n",
      " [[7 8 9]\n",
      " [4 5 6]\n",
      " [1 2 3]]\n",
      "arr3[::-1, ::-1]\n",
      " [[9 8 7]\n",
      " [6 5 4]\n",
      " [3 2 1]]\n"
     ]
    }
   ],
   "source": [
    "arr3=np.array([[1,2,3], [4,5,6], [7,8,9]])\n",
    "print(\"arr3\\n\",arr3)\n",
    "print(\"arr3[:, 0:2]\\n\", arr3[:, 0:2]) #all rows, only cols 0 and 1\n",
    "print(\"arr3[::-1]\\n\", arr3[::-1]) #reverses the order of the rows, not the columns\n",
    "print(\"arr3[::-1, ::-1]\\n\", arr3[::-1, ::-1]) #reverses both"
   ]
  },
  {
   "cell_type": "markdown",
   "id": "d12295d2",
   "metadata": {},
   "source": [
    "We can also index an array by passing a boolean array. This returns a _flattened_ array with values from the original array that correspond to True elements in the indexing array."
   ]
  },
  {
   "cell_type": "code",
   "execution_count": 25,
   "id": "bb5afad9",
   "metadata": {},
   "outputs": [
    {
     "name": "stdout",
     "output_type": "stream",
     "text": [
      "Evens only\n",
      "[2 4 6 8]\n"
     ]
    }
   ],
   "source": [
    "print(\"Evens only\")\n",
    "evens=arr3[arr3%2 == 0]\n",
    "print(evens)"
   ]
  },
  {
   "cell_type": "markdown",
   "id": "3ae3ec6d",
   "metadata": {},
   "source": [
    "We can filter out the unique elements of an array with the .unique() function."
   ]
  },
  {
   "cell_type": "code",
   "execution_count": 26,
   "id": "c020a178",
   "metadata": {},
   "outputs": [
    {
     "data": {
      "text/plain": [
       "array([1, 2, 3, 4, 5, 6, 7, 8, 9])"
      ]
     },
     "execution_count": 26,
     "metadata": {},
     "output_type": "execute_result"
    }
   ],
   "source": [
    "np.unique(arr3)"
   ]
  },
  {
   "cell_type": "markdown",
   "id": "889ffc8f",
   "metadata": {},
   "source": [
    "We can reshape or resize arrays with the .reshape and .resize functions. The .reshape() function returns a reshaped array but does not modify the original values, whereas the .resize() function does modify the original values. The array is flattened, and values are filled into the new shape in the order of the flattened array. Note that with the reshape function, we must pass a new shape that maintains the original size of the array. However, with the resize function, we can truncate the array by passing a new size that is smaller than the original array."
   ]
  },
  {
   "cell_type": "code",
   "execution_count": 38,
   "id": "59610266",
   "metadata": {},
   "outputs": [
    {
     "name": "stdout",
     "output_type": "stream",
     "text": [
      "[[1 2 3]\n",
      " [4 5 6]\n",
      " [7 8 9]]\n",
      "[[1 2 3]\n",
      " [4 5 6]\n",
      " [7 8 9]]\n",
      "[[1 2 3 4 5 6 7 8]]\n"
     ]
    }
   ],
   "source": [
    "arr3=np.array([[1,2,3], [4,5,6], [7,8,9]])\n",
    "print(arr3.reshape((3,3))) #returns reshaped array but does not modify original values\n",
    "print(arr3)\n",
    "arr3.resize(1,8)\n",
    "print(arr3)"
   ]
  },
  {
   "cell_type": "markdown",
   "id": "d8596ccb",
   "metadata": {},
   "source": [
    "We can swap axes with the .swapaxes() function. For 2D arrays, this is equivalent to taking the transpose of the matrix."
   ]
  },
  {
   "cell_type": "code",
   "execution_count": 39,
   "id": "52ed2b64",
   "metadata": {},
   "outputs": [
    {
     "name": "stdout",
     "output_type": "stream",
     "text": [
      "[[1 2 3 4 5 6 7 8]]\n"
     ]
    }
   ],
   "source": [
    "arr3.swapaxes(0,1)\n",
    "print(arr3)"
   ]
  },
  {
   "cell_type": "markdown",
   "id": "5941200e",
   "metadata": {},
   "source": [
    "We can flatten a multidimensional array with the .flatten() function. By default, we flatten rows first, so the output 1D array contains the first row, then the second row, and so on until the last row. We can also flatten by columns by passing 'F' to the flatten function. Note that this function does not modify the original array."
   ]
  },
  {
   "cell_type": "code",
   "execution_count": 44,
   "id": "739b47f0",
   "metadata": {},
   "outputs": [
    {
     "name": "stdout",
     "output_type": "stream",
     "text": [
      "[1 2 3 4 5 6 7 8 9]\n",
      "[1 4 7 2 5 8 3 6 9]\n"
     ]
    }
   ],
   "source": [
    "arr3=np.array([[1,2,3], [4,5,6], [7,8,9]])\n",
    "print(arr3.flatten())\n",
    "print(arr3.flatten(\"F\"))"
   ]
  }
 ],
 "metadata": {
  "kernelspec": {
   "display_name": "Python 3 (ipykernel)",
   "language": "python",
   "name": "python3"
  },
  "language_info": {
   "codemirror_mode": {
    "name": "ipython",
    "version": 3
   },
   "file_extension": ".py",
   "mimetype": "text/x-python",
   "name": "python",
   "nbconvert_exporter": "python",
   "pygments_lexer": "ipython3",
   "version": "3.9.7"
  }
 },
 "nbformat": 4,
 "nbformat_minor": 5
}
