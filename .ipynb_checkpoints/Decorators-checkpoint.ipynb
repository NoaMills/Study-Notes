{
 "cells": [
  {
   "cell_type": "markdown",
   "id": "c6827a03",
   "metadata": {},
   "source": [
    "<b><font size=6>Python Decorators!</font></b> <br> <br>\n",
    "<font size = 2> Original tutorial and code snippets from Corey Schafer's tutorial: https://www.youtube.com/watch?v=FsAPt_9Bf3U </font>"
   ]
  },
  {
   "cell_type": "markdown",
   "id": "e78246c4",
   "metadata": {},
   "source": [
    "<font size = 3>Decorator definition: A function that takes another function as an argument, adds some functionality, and returns another function. \n",
    "<br>\n",
    "We can create decorators in python by using either a function or a class.  </font>"
   ]
  },
  {
   "cell_type": "markdown",
   "id": "e048f242",
   "metadata": {},
   "source": [
    "<font size = 5><b> Part 1: Creating decorators as functions: </b></font> <br><br>\n",
    "<font size = 3> <b>Example 1:</b> The following function takes a function (original_function), and returns a function (wrapper_function) which prints text, then runs original_function. </font>"
   ]
  },
  {
   "cell_type": "code",
   "execution_count": 1,
   "id": "8613d184",
   "metadata": {},
   "outputs": [],
   "source": [
    "def decorator_function(original_function):\n",
    "    def wrapper_function():\n",
    "        print(\"Wrapper function executing\")\n",
    "        return original_function()\n",
    "    return wrapper_function()"
   ]
  },
  {
   "cell_type": "code",
   "execution_count": 2,
   "id": "b39cd292",
   "metadata": {},
   "outputs": [],
   "source": [
    "def display():\n",
    "    print(\"Displaying!\")"
   ]
  },
  {
   "cell_type": "markdown",
   "id": "2abfe7db",
   "metadata": {},
   "source": [
    "We can apply the decorator to the function display by passing display as an input to the decorator function. This executes the wrapper function, which executes the display function."
   ]
  },
  {
   "cell_type": "code",
   "execution_count": 3,
   "id": "b446e48d",
   "metadata": {},
   "outputs": [
    {
     "name": "stdout",
     "output_type": "stream",
     "text": [
      "Wrapper function executing\n",
      "Displaying!\n"
     ]
    }
   ],
   "source": [
    "decorator_function(display)"
   ]
  },
  {
   "cell_type": "markdown",
   "id": "ea0f0b28",
   "metadata": {},
   "source": [
    "<font size = 3> <b>Example 2:</b> The following code is identical EXCEPT for the very last line of the decorator function. Here, we return wrapper_function instead of wrapper_function().</font>"
   ]
  },
  {
   "cell_type": "code",
   "execution_count": 4,
   "id": "1ab6667a",
   "metadata": {},
   "outputs": [],
   "source": [
    "def decorator_function2(original_function):\n",
    "    def wrapper_function():\n",
    "        print(\"Wrapper function executing\")\n",
    "        return original_function()\n",
    "    return wrapper_function"
   ]
  },
  {
   "cell_type": "code",
   "execution_count": 5,
   "id": "a3cc93e1",
   "metadata": {},
   "outputs": [],
   "source": [
    "def display2():\n",
    "    print(\"Displaying!\")"
   ]
  },
  {
   "cell_type": "markdown",
   "id": "bb86d3d9",
   "metadata": {},
   "source": [
    " When we execute the function decorator_function, we return the wrapper function but do not execute it."
   ]
  },
  {
   "cell_type": "code",
   "execution_count": 6,
   "id": "76329dab",
   "metadata": {},
   "outputs": [
    {
     "data": {
      "text/plain": [
       "<function __main__.decorator_function2.<locals>.wrapper_function()>"
      ]
     },
     "execution_count": 6,
     "metadata": {},
     "output_type": "execute_result"
    }
   ],
   "source": [
    "decorator_function2(display2)"
   ]
  },
  {
   "cell_type": "markdown",
   "id": "72f8fd93",
   "metadata": {},
   "source": [
    "In order to execute the wrapper function inside of the decorator function, we must do the following:"
   ]
  },
  {
   "cell_type": "code",
   "execution_count": 7,
   "id": "6fab54c5",
   "metadata": {},
   "outputs": [
    {
     "name": "stdout",
     "output_type": "stream",
     "text": [
      "Wrapper function executing\n",
      "Displaying!\n"
     ]
    }
   ],
   "source": [
    "dec_display = decorator_function2(display2)\n",
    "dec_display()"
   ]
  },
  {
   "cell_type": "markdown",
   "id": "6dc8e499",
   "metadata": {},
   "source": [
    "Or, we can apply the decorator function with more common syntax as follows:"
   ]
  },
  {
   "cell_type": "code",
   "execution_count": 8,
   "id": "c96c9f08",
   "metadata": {},
   "outputs": [
    {
     "name": "stdout",
     "output_type": "stream",
     "text": [
      "Wrapper function executing\n",
      "Dispalying!\n"
     ]
    }
   ],
   "source": [
    "@decorator_function2\n",
    "def display2():\n",
    "    print(\"Dispalying!\")\n",
    "    \n",
    "display2()"
   ]
  },
  {
   "cell_type": "markdown",
   "id": "5a3333a3",
   "metadata": {},
   "source": [
    "<font size=3><b>Example 3:</b> The problem with the above decorator functions is that they can only be applied to functions which have no inputs. For example, say we have the following function we wish to apply the decorator to:</font>"
   ]
  },
  {
   "cell_type": "code",
   "execution_count": 9,
   "id": "57a8286e",
   "metadata": {},
   "outputs": [],
   "source": [
    "@decorator_function2\n",
    "def display3(text):\n",
    "    print(\"Displaying text: \", text)\n",
    "    \n",
    "#display3()"
   ]
  },
  {
   "cell_type": "markdown",
   "id": "9aa7d693",
   "metadata": {},
   "source": [
    "Here we get an error (uncomment \"display3() to see error) because when we defined the function decorator_function2, we call original_function() with no arguments, so the decorator isn't prepared to accept functions with arguments. We can modify our decorator as follows to allow for a variable number of arguments:"
   ]
  },
  {
   "cell_type": "code",
   "execution_count": 10,
   "id": "fbc7e21b",
   "metadata": {},
   "outputs": [
    {
     "name": "stdout",
     "output_type": "stream",
     "text": [
      "Wrapper function executing\n",
      "Displaying text:  Success!\n"
     ]
    }
   ],
   "source": [
    "def decorator_function2(original_function):\n",
    "    def wrapper_function(*args, **kwargs):\n",
    "        print(\"Wrapper function executing\")\n",
    "        return original_function(*args, **kwargs)\n",
    "    return wrapper_function\n",
    "\n",
    "@decorator_function2\n",
    "def display3(text):\n",
    "    print(\"Displaying text: \", text)\n",
    "    \n",
    "display3(\"Success!\")"
   ]
  },
  {
   "cell_type": "markdown",
   "id": "5e55ac0a",
   "metadata": {},
   "source": [
    "<font size = 5><b> Part 2: Creating decorators as a class: </b></font> <br><br>\n",
    "<font size = 3> <b>Example 1:</b> Here we define a class with \\_\\_init\\_\\_ and \\_\\_call\\_\\_ attributes. When we apply the @decorator_class token above a function, the function is created as an object of type decorator_class, and the \\_\\_init\\_\\_ method is invoked. Then, when the function is called, the \\_\\_call\\_\\_ method is invoked.</font>"
   ]
  },
  {
   "cell_type": "code",
   "execution_count": 11,
   "id": "97296494",
   "metadata": {},
   "outputs": [],
   "source": [
    "class decorator_class(object):\n",
    "    def __init__(self, original_function):\n",
    "        print(\"__init__ method invoked\")\n",
    "        self.original_function=original_function\n",
    "        \n",
    "    def __call__(self, *args, **kwargs):\n",
    "        print(\"__call__ method invoked, which then calls {}\".format(self.original_function.__name__))\n",
    "        return self.original_function(*args, **kwargs)"
   ]
  },
  {
   "cell_type": "code",
   "execution_count": 12,
   "id": "455d6f8f",
   "metadata": {},
   "outputs": [
    {
     "name": "stdout",
     "output_type": "stream",
     "text": [
      "__init__ method invoked\n",
      "__call__ method invoked, which then calls display_info\n",
      "Name = Noa and age = 24\n"
     ]
    }
   ],
   "source": [
    "@decorator_class\n",
    "def display_info(name, age):\n",
    "    print(\"Name = {} and age = {}\".format(name,age))\n",
    "    \n",
    "display_info(\"Noa\", 24)"
   ]
  }
 ],
 "metadata": {
  "kernelspec": {
   "display_name": "Python 3 (ipykernel)",
   "language": "python",
   "name": "python3"
  },
  "language_info": {
   "codemirror_mode": {
    "name": "ipython",
    "version": 3
   },
   "file_extension": ".py",
   "mimetype": "text/x-python",
   "name": "python",
   "nbconvert_exporter": "python",
   "pygments_lexer": "ipython3",
   "version": "3.9.7"
  }
 },
 "nbformat": 4,
 "nbformat_minor": 5
}
